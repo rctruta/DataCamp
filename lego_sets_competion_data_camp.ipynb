{
 "cells": [
  {
   "cell_type": "markdown",
   "id": "0a00d0e6-7741-4dba-bfc0-01ec6a36630e",
   "metadata": {},
   "source": [
    "### Q1: What is the average number of sets per year?\n",
    "\n",
    "\n",
    "To answer this query, a temporary view `sets_per_year` is defined. The view contains a record for each `year` with existing `sets`, and the number of sets, `num_sets_per_year`, produced in that year. The average number of sets per year is computed using this temporary view."
   ]
  },
  {
   "cell_type": "code",
   "execution_count": 62,
   "id": "75bb3a87-464b-4a62-b993-c1d4c4847fd6",
   "metadata": {
    "chartConfig": {
     "bar": {
      "hasRoundedCorners": true,
      "stacked": false
     },
     "title": "Number of Sets Per Year",
     "type": "bar",
     "version": "v1",
     "x": {
      "field": "year",
      "type": "integer"
     },
     "y": {
      "field": "num_sets_per_year",
      "type": "integer"
     }
    },
    "customType": "sql",
    "dataFrameVariableName": "df",
    "executionTime": 1327,
    "initial": false,
    "integrationId": "fe6a1b73-7874-4e69-b6fb-fe69bb8b4667",
    "lastSuccessfullyExecutedCode": "WITH sets_per_year AS\n(SELECT year, \n       COUNT(*) AS num_sets_per_year\nFROM sets\nGROUP BY year)\nSELECT *\nFROM sets_per_year          ",
    "visualizeDataframe": true
   },
   "outputs": [
    {
     "data": {
      "application/com.datacamp.data-table.v1+json": {
       "table": {
        "data": [
         {
          "index": 0,
          "num_sets_per_year": 11,
          "year": 1964
         },
         {
          "index": 1,
          "num_sets_per_year": 69,
          "year": 1969
         },
         {
          "index": 2,
          "num_sets_per_year": 349,
          "year": 2008
         },
         {
          "index": 3,
          "num_sets_per_year": 115,
          "year": 1989
         },
         {
          "index": 4,
          "num_sets_per_year": 107,
          "year": 1991
         },
         {
          "index": 5,
          "num_sets_per_year": 39,
          "year": 1974
         },
         {
          "index": 6,
          "num_sets_per_year": 45,
          "year": 1971
         },
         {
          "index": 7,
          "num_sets_per_year": 92,
          "year": 1977
         },
         {
          "index": 8,
          "num_sets_per_year": 12,
          "year": 1956
         },
         {
          "index": 9,
          "num_sets_per_year": 76,
          "year": 1984
         },
         {
          "index": 10,
          "num_sets_per_year": 57,
          "year": 1983
         },
         {
          "index": 11,
          "num_sets_per_year": 296,
          "year": 2017
         },
         {
          "index": 12,
          "num_sets_per_year": 402,
          "year": 2009
         },
         {
          "index": 13,
          "num_sets_per_year": 42,
          "year": 1958
         },
         {
          "index": 14,
          "num_sets_per_year": 330,
          "year": 2005
         },
         {
          "index": 15,
          "num_sets_per_year": 67,
          "year": 1973
         },
         {
          "index": 16,
          "num_sets_per_year": 593,
          "year": 2013
         },
         {
          "index": 17,
          "num_sets_per_year": 415,
          "year": 2003
         },
         {
          "index": 18,
          "num_sets_per_year": 665,
          "year": 2015
         },
         {
          "index": 19,
          "num_sets_per_year": 111,
          "year": 1993
         },
         {
          "index": 20,
          "num_sets_per_year": 85,
          "year": 1990
         },
         {
          "index": 21,
          "num_sets_per_year": 4,
          "year": 1953
         },
         {
          "index": 22,
          "num_sets_per_year": 447,
          "year": 2002
         },
         {
          "index": 23,
          "num_sets_per_year": 82,
          "year": 1979
         },
         {
          "index": 24,
          "num_sets_per_year": 192,
          "year": 1997
         },
         {
          "index": 25,
          "num_sets_per_year": 371,
          "year": 2004
         },
         {
          "index": 26,
          "num_sets_per_year": 88,
          "year": 1980
         },
         {
          "index": 27,
          "num_sets_per_year": 596,
          "year": 2016
         },
         {
          "index": 28,
          "num_sets_per_year": 31,
          "year": 1975
         },
         {
          "index": 29,
          "num_sets_per_year": 123,
          "year": 1986
         },
         {
          "index": 30,
          "num_sets_per_year": 29,
          "year": 1970
         },
         {
          "index": 31,
          "num_sets_per_year": 76,
          "year": 1982
         },
         {
          "index": 32,
          "num_sets_per_year": 128,
          "year": 1995
         },
         {
          "index": 33,
          "num_sets_per_year": 115,
          "year": 1992
         },
         {
          "index": 34,
          "num_sets_per_year": 18,
          "year": 1963
         },
         {
          "index": 35,
          "num_sets_per_year": 128,
          "year": 1994
         },
         {
          "index": 36,
          "num_sets_per_year": 713,
          "year": 2014
         },
         {
          "index": 37,
          "num_sets_per_year": 444,
          "year": 2010
         },
         {
          "index": 38,
          "num_sets_per_year": 144,
          "year": 1996
         },
         {
          "index": 39,
          "num_sets_per_year": 209,
          "year": 1987
         },
         {
          "index": 40,
          "num_sets_per_year": 21,
          "year": 1967
         },
         {
          "index": 41,
          "num_sets_per_year": 327,
          "year": 2000
         },
         {
          "index": 42,
          "num_sets_per_year": 503,
          "year": 2011
         },
         {
          "index": 43,
          "num_sets_per_year": 10,
          "year": 1965
         },
         {
          "index": 44,
          "num_sets_per_year": 139,
          "year": 1985
         },
         {
          "index": 45,
          "num_sets_per_year": 3,
          "year": 1960
         },
         {
          "index": 46,
          "num_sets_per_year": 38,
          "year": 1972
         },
         {
          "index": 47,
          "num_sets_per_year": 325,
          "year": 1998
         },
         {
          "index": 48,
          "num_sets_per_year": 68,
          "year": 1976
         },
         {
          "index": 49,
          "num_sets_per_year": 79,
          "year": 1981
         },
         {
          "index": 50,
          "num_sets_per_year": 321,
          "year": 2007
         },
         {
          "index": 51,
          "num_sets_per_year": 89,
          "year": 1966
         },
         {
          "index": 52,
          "num_sets_per_year": 73,
          "year": 1978
         },
         {
          "index": 53,
          "num_sets_per_year": 25,
          "year": 1968
         },
         {
          "index": 54,
          "num_sets_per_year": 283,
          "year": 2006
         },
         {
          "index": 55,
          "num_sets_per_year": 17,
          "year": 1961
         },
         {
          "index": 56,
          "num_sets_per_year": 40,
          "year": 1962
         },
         {
          "index": 57,
          "num_sets_per_year": 339,
          "year": 2001
         },
         {
          "index": 58,
          "num_sets_per_year": 7,
          "year": 1950
         },
         {
          "index": 59,
          "num_sets_per_year": 300,
          "year": 1999
         },
         {
          "index": 60,
          "num_sets_per_year": 21,
          "year": 1957
         },
         {
          "index": 61,
          "num_sets_per_year": 28,
          "year": 1955
         },
         {
          "index": 62,
          "num_sets_per_year": 615,
          "year": 2012
         },
         {
          "index": 63,
          "num_sets_per_year": 14,
          "year": 1954
         },
         {
          "index": 64,
          "num_sets_per_year": 4,
          "year": 1959
         },
         {
          "index": 65,
          "num_sets_per_year": 68,
          "year": 1988
         }
        ],
        "schema": {
         "fields": [
          {
           "name": "index",
           "type": "integer"
          },
          {
           "name": "year",
           "type": "integer"
          },
          {
           "name": "num_sets_per_year",
           "type": "integer"
          }
         ],
         "pandas_version": "1.4.0",
         "primaryKey": [
          "index"
         ]
        }
       },
       "total_rows": 66,
       "truncation_type": null
      },
      "text/html": [
       "<div>\n",
       "<style scoped>\n",
       "    .dataframe tbody tr th:only-of-type {\n",
       "        vertical-align: middle;\n",
       "    }\n",
       "\n",
       "    .dataframe tbody tr th {\n",
       "        vertical-align: top;\n",
       "    }\n",
       "\n",
       "    .dataframe thead th {\n",
       "        text-align: right;\n",
       "    }\n",
       "</style>\n",
       "<table border=\"1\" class=\"dataframe\">\n",
       "  <thead>\n",
       "    <tr style=\"text-align: right;\">\n",
       "      <th></th>\n",
       "      <th>year</th>\n",
       "      <th>num_sets_per_year</th>\n",
       "    </tr>\n",
       "  </thead>\n",
       "  <tbody>\n",
       "    <tr>\n",
       "      <th>0</th>\n",
       "      <td>1964</td>\n",
       "      <td>11</td>\n",
       "    </tr>\n",
       "    <tr>\n",
       "      <th>1</th>\n",
       "      <td>1969</td>\n",
       "      <td>69</td>\n",
       "    </tr>\n",
       "    <tr>\n",
       "      <th>2</th>\n",
       "      <td>2008</td>\n",
       "      <td>349</td>\n",
       "    </tr>\n",
       "    <tr>\n",
       "      <th>3</th>\n",
       "      <td>1989</td>\n",
       "      <td>115</td>\n",
       "    </tr>\n",
       "    <tr>\n",
       "      <th>4</th>\n",
       "      <td>1991</td>\n",
       "      <td>107</td>\n",
       "    </tr>\n",
       "    <tr>\n",
       "      <th>...</th>\n",
       "      <td>...</td>\n",
       "      <td>...</td>\n",
       "    </tr>\n",
       "    <tr>\n",
       "      <th>61</th>\n",
       "      <td>1955</td>\n",
       "      <td>28</td>\n",
       "    </tr>\n",
       "    <tr>\n",
       "      <th>62</th>\n",
       "      <td>2012</td>\n",
       "      <td>615</td>\n",
       "    </tr>\n",
       "    <tr>\n",
       "      <th>63</th>\n",
       "      <td>1954</td>\n",
       "      <td>14</td>\n",
       "    </tr>\n",
       "    <tr>\n",
       "      <th>64</th>\n",
       "      <td>1959</td>\n",
       "      <td>4</td>\n",
       "    </tr>\n",
       "    <tr>\n",
       "      <th>65</th>\n",
       "      <td>1988</td>\n",
       "      <td>68</td>\n",
       "    </tr>\n",
       "  </tbody>\n",
       "</table>\n",
       "<p>66 rows × 2 columns</p>\n",
       "</div>"
      ],
      "text/plain": [
       "    year  num_sets_per_year\n",
       "0   1964                 11\n",
       "1   1969                 69\n",
       "2   2008                349\n",
       "3   1989                115\n",
       "4   1991                107\n",
       "..   ...                ...\n",
       "61  1955                 28\n",
       "62  2012                615\n",
       "63  1954                 14\n",
       "64  1959                  4\n",
       "65  1988                 68\n",
       "\n",
       "[66 rows x 2 columns]"
      ]
     },
     "execution_count": 62,
     "metadata": {},
     "output_type": "execute_result"
    }
   ],
   "source": [
    "WITH sets_per_year AS\n",
    "(SELECT year, \n",
    "       COUNT(*) AS num_sets_per_year\n",
    "FROM sets\n",
    "GROUP BY year)\n",
    "SELECT *\n",
    "FROM sets_per_year          "
   ]
  },
  {
   "cell_type": "code",
   "execution_count": 63,
   "id": "795fee7d-a834-4ff4-9152-49b103fdd9e2",
   "metadata": {
    "chartConfig": {
     "bar": {
      "hasRoundedCorners": true,
      "stacked": false
     },
     "type": "bar",
     "version": "v1",
     "x": {
      "field": "avg_num_sets_per_year",
      "type": "number"
     },
     "y": {
      "field": "index",
      "type": "integer"
     }
    },
    "customType": "sql",
    "dataFrameVariableName": "sets_year",
    "executionTime": 966,
    "initial": false,
    "integrationId": "fe6a1b73-7874-4e69-b6fb-fe69bb8b4667",
    "lastSuccessfullyExecutedCode": "WITH sets_per_year AS\n(SELECT year, \n       COUNT(*) AS num_sets_per_year\nFROM sets\nGROUP BY year)\nSELECT ROUND(AVG(num_sets_per_year), 2) AS avg_num_sets_per_year\nFROM sets_per_year          \n",
    "visualizeDataframe": false
   },
   "outputs": [
    {
     "data": {
      "application/com.datacamp.data-table.v1+json": {
       "table": {
        "data": [
         {
          "avg_num_sets_per_year": 176.86,
          "index": 0
         }
        ],
        "schema": {
         "fields": [
          {
           "name": "index",
           "type": "integer"
          },
          {
           "name": "avg_num_sets_per_year",
           "type": "number"
          }
         ],
         "pandas_version": "1.4.0",
         "primaryKey": [
          "index"
         ]
        }
       },
       "total_rows": 1,
       "truncation_type": null
      },
      "text/html": [
       "<div>\n",
       "<style scoped>\n",
       "    .dataframe tbody tr th:only-of-type {\n",
       "        vertical-align: middle;\n",
       "    }\n",
       "\n",
       "    .dataframe tbody tr th {\n",
       "        vertical-align: top;\n",
       "    }\n",
       "\n",
       "    .dataframe thead th {\n",
       "        text-align: right;\n",
       "    }\n",
       "</style>\n",
       "<table border=\"1\" class=\"dataframe\">\n",
       "  <thead>\n",
       "    <tr style=\"text-align: right;\">\n",
       "      <th></th>\n",
       "      <th>avg_num_sets_per_year</th>\n",
       "    </tr>\n",
       "  </thead>\n",
       "  <tbody>\n",
       "    <tr>\n",
       "      <th>0</th>\n",
       "      <td>176.86</td>\n",
       "    </tr>\n",
       "  </tbody>\n",
       "</table>\n",
       "</div>"
      ],
      "text/plain": [
       "   avg_num_sets_per_year\n",
       "0                 176.86"
      ]
     },
     "execution_count": 63,
     "metadata": {},
     "output_type": "execute_result"
    }
   ],
   "source": [
    "WITH sets_per_year AS\n",
    "(SELECT year, \n",
    "       COUNT(*) AS num_sets_per_year\n",
    "FROM sets\n",
    "GROUP BY year)\n",
    "SELECT ROUND(AVG(num_sets_per_year), 2) AS avg_num_sets_per_year\n",
    "FROM sets_per_year          \n"
   ]
  },
  {
   "cell_type": "markdown",
   "id": "b81607d3-439a-45a3-ac05-05e273fe3dfd",
   "metadata": {},
   "source": [
    "### Q2: What is the average number of parts per year?\n",
    "\n",
    "The average number of parst per year is `1056.5`."
   ]
  },
  {
   "cell_type": "code",
   "execution_count": 64,
   "id": "12db048d-569c-4177-ad0f-c557792ce111",
   "metadata": {
    "chartConfig": {
     "bar": {
      "hasRoundedCorners": true,
      "stacked": false
     },
     "type": "bar",
     "version": "v1"
    },
    "customType": "sql",
    "dataFrameVariableName": "avg_parts_per_year",
    "executionTime": 2961,
    "initial": false,
    "integrationId": "fe6a1b73-7874-4e69-b6fb-fe69bb8b4667",
    "lastSuccessfullyExecutedCode": "WITH parts_per_year AS\n(SELECT s.year, COUNT(DISTINCT p.part_num) as parts_per_year\nFROM parts p JOIN inventory_parts ip ON p.part_num = ip.part_num \nJOIN inventories iv ON ip.inventory_id = iv.id\nJOIN sets s ON s.set_num = iv.set_num\nGROUP BY s.year\n)    \nSELECT ROUND(AVG(parts_per_year), 2) AS avg_parts_per_year\nFROM parts_per_year          \n",
    "visualizeDataframe": false
   },
   "outputs": [
    {
     "data": {
      "application/com.datacamp.data-table.v1+json": {
       "table": {
        "data": [
         {
          "avg_parts_per_year": 1056.5,
          "index": 0
         }
        ],
        "schema": {
         "fields": [
          {
           "name": "index",
           "type": "integer"
          },
          {
           "name": "avg_parts_per_year",
           "type": "number"
          }
         ],
         "pandas_version": "1.4.0",
         "primaryKey": [
          "index"
         ]
        }
       },
       "total_rows": 1,
       "truncation_type": null
      },
      "text/html": [
       "<div>\n",
       "<style scoped>\n",
       "    .dataframe tbody tr th:only-of-type {\n",
       "        vertical-align: middle;\n",
       "    }\n",
       "\n",
       "    .dataframe tbody tr th {\n",
       "        vertical-align: top;\n",
       "    }\n",
       "\n",
       "    .dataframe thead th {\n",
       "        text-align: right;\n",
       "    }\n",
       "</style>\n",
       "<table border=\"1\" class=\"dataframe\">\n",
       "  <thead>\n",
       "    <tr style=\"text-align: right;\">\n",
       "      <th></th>\n",
       "      <th>avg_parts_per_year</th>\n",
       "    </tr>\n",
       "  </thead>\n",
       "  <tbody>\n",
       "    <tr>\n",
       "      <th>0</th>\n",
       "      <td>1056.5</td>\n",
       "    </tr>\n",
       "  </tbody>\n",
       "</table>\n",
       "</div>"
      ],
      "text/plain": [
       "   avg_parts_per_year\n",
       "0              1056.5"
      ]
     },
     "execution_count": 64,
     "metadata": {},
     "output_type": "execute_result"
    }
   ],
   "source": [
    "WITH parts_per_year AS\n",
    "(SELECT s.year, COUNT(DISTINCT p.part_num) as parts_per_year\n",
    "FROM parts p JOIN inventory_parts ip ON p.part_num = ip.part_num \n",
    "JOIN inventories iv ON ip.inventory_id = iv.id\n",
    "JOIN sets s ON s.set_num = iv.set_num\n",
    "GROUP BY s.year\n",
    ")    \n",
    "SELECT ROUND(AVG(parts_per_year), 2) AS avg_parts_per_year\n",
    "FROM parts_per_year          \n"
   ]
  },
  {
   "cell_type": "code",
   "execution_count": 65,
   "id": "ec955a83-d338-49db-b3e9-6cc2a9fd55b8",
   "metadata": {
    "chartConfig": {
     "bar": {
      "hasRoundedCorners": true,
      "stacked": false
     },
     "type": "bar",
     "version": "v1"
    },
    "customType": "sql",
    "dataFrameVariableName": "avg_parts_per_year",
    "executionTime": 3097,
    "initial": false,
    "integrationId": "fe6a1b73-7874-4e69-b6fb-fe69bb8b4667",
    "lastSuccessfullyExecutedCode": "WITH parts_per_year AS\n(SELECT s.year, COUNT(DISTINCT p.part_num) AS parts_per_year\nFROM parts p JOIN inventory_parts ip ON p.part_num = ip.part_num \nJOIN inventories iv ON ip.inventory_id = iv.id\nJOIN sets s ON s.set_num = iv.set_num\nGROUP BY s.year\n)    \nSELECT year, AVG(parts_per_year) AS avg_parts_per_year\nFROM parts_per_year\nGROUP BY year",
    "visualizeDataframe": false
   },
   "outputs": [
    {
     "data": {
      "application/com.datacamp.data-table.v1+json": {
       "table": {
        "data": [
         {
          "avg_parts_per_year": 6,
          "index": 0,
          "year": 1950
         },
         {
          "avg_parts_per_year": 6,
          "index": 1,
          "year": 1953
         },
         {
          "avg_parts_per_year": 27,
          "index": 2,
          "year": 1954
         },
         {
          "avg_parts_per_year": 86,
          "index": 3,
          "year": 1955
         },
         {
          "avg_parts_per_year": 47,
          "index": 4,
          "year": 1956
         },
         {
          "avg_parts_per_year": 67,
          "index": 5,
          "year": 1957
         },
         {
          "avg_parts_per_year": 128,
          "index": 6,
          "year": 1958
         },
         {
          "avg_parts_per_year": 13,
          "index": 7,
          "year": 1959
         },
         {
          "avg_parts_per_year": 35,
          "index": 8,
          "year": 1960
         },
         {
          "avg_parts_per_year": 80,
          "index": 9,
          "year": 1961
         },
         {
          "avg_parts_per_year": 72,
          "index": 10,
          "year": 1962
         },
         {
          "avg_parts_per_year": 59,
          "index": 11,
          "year": 1963
         },
         {
          "avg_parts_per_year": 58,
          "index": 12,
          "year": 1964
         },
         {
          "avg_parts_per_year": 39,
          "index": 13,
          "year": 1965
         },
         {
          "avg_parts_per_year": 199,
          "index": 14,
          "year": 1966
         },
         {
          "avg_parts_per_year": 107,
          "index": 15,
          "year": 1967
         },
         {
          "avg_parts_per_year": 128,
          "index": 16,
          "year": 1968
         },
         {
          "avg_parts_per_year": 261,
          "index": 17,
          "year": 1969
         },
         {
          "avg_parts_per_year": 149,
          "index": 18,
          "year": 1970
         },
         {
          "avg_parts_per_year": 187,
          "index": 19,
          "year": 1971
         },
         {
          "avg_parts_per_year": 201,
          "index": 20,
          "year": 1972
         },
         {
          "avg_parts_per_year": 205,
          "index": 21,
          "year": 1973
         },
         {
          "avg_parts_per_year": 206,
          "index": 22,
          "year": 1974
         },
         {
          "avg_parts_per_year": 196,
          "index": 23,
          "year": 1975
         },
         {
          "avg_parts_per_year": 265,
          "index": 24,
          "year": 1976
         },
         {
          "avg_parts_per_year": 277,
          "index": 25,
          "year": 1977
         },
         {
          "avg_parts_per_year": 333,
          "index": 26,
          "year": 1978
         },
         {
          "avg_parts_per_year": 374,
          "index": 27,
          "year": 1979
         },
         {
          "avg_parts_per_year": 490,
          "index": 28,
          "year": 1980
         },
         {
          "avg_parts_per_year": 423,
          "index": 29,
          "year": 1981
         },
         {
          "avg_parts_per_year": 427,
          "index": 30,
          "year": 1982
         },
         {
          "avg_parts_per_year": 479,
          "index": 31,
          "year": 1983
         },
         {
          "avg_parts_per_year": 528,
          "index": 32,
          "year": 1984
         },
         {
          "avg_parts_per_year": 744,
          "index": 33,
          "year": 1985
         },
         {
          "avg_parts_per_year": 705,
          "index": 34,
          "year": 1986
         },
         {
          "avg_parts_per_year": 789,
          "index": 35,
          "year": 1987
         },
         {
          "avg_parts_per_year": 719,
          "index": 36,
          "year": 1988
         },
         {
          "avg_parts_per_year": 740,
          "index": 37,
          "year": 1989
         },
         {
          "avg_parts_per_year": 770,
          "index": 38,
          "year": 1990
         },
         {
          "avg_parts_per_year": 836,
          "index": 39,
          "year": 1991
         },
         {
          "avg_parts_per_year": 854,
          "index": 40,
          "year": 1992
         },
         {
          "avg_parts_per_year": 942,
          "index": 41,
          "year": 1993
         },
         {
          "avg_parts_per_year": 1016,
          "index": 42,
          "year": 1994
         },
         {
          "avg_parts_per_year": 1087,
          "index": 43,
          "year": 1995
         },
         {
          "avg_parts_per_year": 1252,
          "index": 44,
          "year": 1996
         },
         {
          "avg_parts_per_year": 1483,
          "index": 45,
          "year": 1997
         },
         {
          "avg_parts_per_year": 1572,
          "index": 46,
          "year": 1998
         },
         {
          "avg_parts_per_year": 1684,
          "index": 47,
          "year": 1999
         },
         {
          "avg_parts_per_year": 1598,
          "index": 48,
          "year": 2000
         },
         {
          "avg_parts_per_year": 1722,
          "index": 49,
          "year": 2001
         },
         {
          "avg_parts_per_year": 2063,
          "index": 50,
          "year": 2002
         },
         {
          "avg_parts_per_year": 2262,
          "index": 51,
          "year": 2003
         },
         {
          "avg_parts_per_year": 2196,
          "index": 52,
          "year": 2004
         },
         {
          "avg_parts_per_year": 1962,
          "index": 53,
          "year": 2005
         },
         {
          "avg_parts_per_year": 2190,
          "index": 54,
          "year": 2006
         },
         {
          "avg_parts_per_year": 1853,
          "index": 55,
          "year": 2007
         },
         {
          "avg_parts_per_year": 2105,
          "index": 56,
          "year": 2008
         },
         {
          "avg_parts_per_year": 2154,
          "index": 57,
          "year": 2009
         },
         {
          "avg_parts_per_year": 2469,
          "index": 58,
          "year": 2010
         },
         {
          "avg_parts_per_year": 3046,
          "index": 59,
          "year": 2011
         },
         {
          "avg_parts_per_year": 3770,
          "index": 60,
          "year": 2012
         },
         {
          "avg_parts_per_year": 3786,
          "index": 61,
          "year": 2013
         },
         {
          "avg_parts_per_year": 3726,
          "index": 62,
          "year": 2014
         },
         {
          "avg_parts_per_year": 4166,
          "index": 63,
          "year": 2015
         },
         {
          "avg_parts_per_year": 4297,
          "index": 64,
          "year": 2016
         },
         {
          "avg_parts_per_year": 3013,
          "index": 65,
          "year": 2017
         }
        ],
        "schema": {
         "fields": [
          {
           "name": "index",
           "type": "integer"
          },
          {
           "name": "year",
           "type": "integer"
          },
          {
           "name": "avg_parts_per_year",
           "type": "number"
          }
         ],
         "pandas_version": "1.4.0",
         "primaryKey": [
          "index"
         ]
        }
       },
       "total_rows": 66,
       "truncation_type": null
      },
      "text/html": [
       "<div>\n",
       "<style scoped>\n",
       "    .dataframe tbody tr th:only-of-type {\n",
       "        vertical-align: middle;\n",
       "    }\n",
       "\n",
       "    .dataframe tbody tr th {\n",
       "        vertical-align: top;\n",
       "    }\n",
       "\n",
       "    .dataframe thead th {\n",
       "        text-align: right;\n",
       "    }\n",
       "</style>\n",
       "<table border=\"1\" class=\"dataframe\">\n",
       "  <thead>\n",
       "    <tr style=\"text-align: right;\">\n",
       "      <th></th>\n",
       "      <th>year</th>\n",
       "      <th>avg_parts_per_year</th>\n",
       "    </tr>\n",
       "  </thead>\n",
       "  <tbody>\n",
       "    <tr>\n",
       "      <th>0</th>\n",
       "      <td>1950</td>\n",
       "      <td>6.0</td>\n",
       "    </tr>\n",
       "    <tr>\n",
       "      <th>1</th>\n",
       "      <td>1953</td>\n",
       "      <td>6.0</td>\n",
       "    </tr>\n",
       "    <tr>\n",
       "      <th>2</th>\n",
       "      <td>1954</td>\n",
       "      <td>27.0</td>\n",
       "    </tr>\n",
       "    <tr>\n",
       "      <th>3</th>\n",
       "      <td>1955</td>\n",
       "      <td>86.0</td>\n",
       "    </tr>\n",
       "    <tr>\n",
       "      <th>4</th>\n",
       "      <td>1956</td>\n",
       "      <td>47.0</td>\n",
       "    </tr>\n",
       "    <tr>\n",
       "      <th>...</th>\n",
       "      <td>...</td>\n",
       "      <td>...</td>\n",
       "    </tr>\n",
       "    <tr>\n",
       "      <th>61</th>\n",
       "      <td>2013</td>\n",
       "      <td>3786.0</td>\n",
       "    </tr>\n",
       "    <tr>\n",
       "      <th>62</th>\n",
       "      <td>2014</td>\n",
       "      <td>3726.0</td>\n",
       "    </tr>\n",
       "    <tr>\n",
       "      <th>63</th>\n",
       "      <td>2015</td>\n",
       "      <td>4166.0</td>\n",
       "    </tr>\n",
       "    <tr>\n",
       "      <th>64</th>\n",
       "      <td>2016</td>\n",
       "      <td>4297.0</td>\n",
       "    </tr>\n",
       "    <tr>\n",
       "      <th>65</th>\n",
       "      <td>2017</td>\n",
       "      <td>3013.0</td>\n",
       "    </tr>\n",
       "  </tbody>\n",
       "</table>\n",
       "<p>66 rows × 2 columns</p>\n",
       "</div>"
      ],
      "text/plain": [
       "    year  avg_parts_per_year\n",
       "0   1950                 6.0\n",
       "1   1953                 6.0\n",
       "2   1954                27.0\n",
       "3   1955                86.0\n",
       "4   1956                47.0\n",
       "..   ...                 ...\n",
       "61  2013              3786.0\n",
       "62  2014              3726.0\n",
       "63  2015              4166.0\n",
       "64  2016              4297.0\n",
       "65  2017              3013.0\n",
       "\n",
       "[66 rows x 2 columns]"
      ]
     },
     "execution_count": 65,
     "metadata": {},
     "output_type": "execute_result"
    }
   ],
   "source": [
    "WITH parts_per_year AS\n",
    "(SELECT s.year, COUNT(DISTINCT p.part_num) AS parts_per_year\n",
    "FROM parts p JOIN inventory_parts ip ON p.part_num = ip.part_num \n",
    "JOIN inventories iv ON ip.inventory_id = iv.id\n",
    "JOIN sets s ON s.set_num = iv.set_num\n",
    "GROUP BY s.year\n",
    ")    \n",
    "SELECT year, AVG(parts_per_year) AS avg_parts_per_year\n",
    "FROM parts_per_year\n",
    "GROUP BY year"
   ]
  },
  {
   "cell_type": "markdown",
   "id": "5ad563bc-2422-419e-8d94-666c1f47b3e0",
   "metadata": {},
   "source": [
    "### Q3: What is the average number of parts per year? Create a visual.\n",
    "\n",
    "From the line graph below, it can be noticed that the average number of parts per year has increased consistently year after year. A few noticeable drops happened in 2005, 2007 and 2017, with the one in 2017 being the largest drop. This last drop, from `4297` to `3013` is significant, nearing a `25%` drop."
   ]
  },
  {
   "cell_type": "code",
   "execution_count": 66,
   "id": "ca8198e2-5f56-4c0d-a858-4fde584d92dd",
   "metadata": {
    "chartConfig": {
     "bar": {
      "hasRoundedCorners": true,
      "stacked": false
     },
     "title": "Parts per Year",
     "type": "line",
     "version": "v1",
     "x": {
      "field": "year",
      "type": "integer"
     },
     "y": {
      "field": "avg_parts_per_year",
      "type": "number"
     }
    },
    "customType": "visualization",
    "dataFrameVariableName": "avg_parts_per_year",
    "executionTime": 97,
    "initial": false,
    "lastSuccessfullyExecutedCode": ""
   },
   "outputs": [
    {
     "data": {
      "application/com.datacamp.data-table.v1+json": {
       "table": {
        "data": [
         {
          "avg_parts_per_year": 6,
          "index": 0,
          "year": 1950
         },
         {
          "avg_parts_per_year": 6,
          "index": 1,
          "year": 1953
         },
         {
          "avg_parts_per_year": 27,
          "index": 2,
          "year": 1954
         },
         {
          "avg_parts_per_year": 86,
          "index": 3,
          "year": 1955
         },
         {
          "avg_parts_per_year": 47,
          "index": 4,
          "year": 1956
         },
         {
          "avg_parts_per_year": 67,
          "index": 5,
          "year": 1957
         },
         {
          "avg_parts_per_year": 128,
          "index": 6,
          "year": 1958
         },
         {
          "avg_parts_per_year": 13,
          "index": 7,
          "year": 1959
         },
         {
          "avg_parts_per_year": 35,
          "index": 8,
          "year": 1960
         },
         {
          "avg_parts_per_year": 80,
          "index": 9,
          "year": 1961
         },
         {
          "avg_parts_per_year": 72,
          "index": 10,
          "year": 1962
         },
         {
          "avg_parts_per_year": 59,
          "index": 11,
          "year": 1963
         },
         {
          "avg_parts_per_year": 58,
          "index": 12,
          "year": 1964
         },
         {
          "avg_parts_per_year": 39,
          "index": 13,
          "year": 1965
         },
         {
          "avg_parts_per_year": 199,
          "index": 14,
          "year": 1966
         },
         {
          "avg_parts_per_year": 107,
          "index": 15,
          "year": 1967
         },
         {
          "avg_parts_per_year": 128,
          "index": 16,
          "year": 1968
         },
         {
          "avg_parts_per_year": 261,
          "index": 17,
          "year": 1969
         },
         {
          "avg_parts_per_year": 149,
          "index": 18,
          "year": 1970
         },
         {
          "avg_parts_per_year": 187,
          "index": 19,
          "year": 1971
         },
         {
          "avg_parts_per_year": 201,
          "index": 20,
          "year": 1972
         },
         {
          "avg_parts_per_year": 205,
          "index": 21,
          "year": 1973
         },
         {
          "avg_parts_per_year": 206,
          "index": 22,
          "year": 1974
         },
         {
          "avg_parts_per_year": 196,
          "index": 23,
          "year": 1975
         },
         {
          "avg_parts_per_year": 265,
          "index": 24,
          "year": 1976
         },
         {
          "avg_parts_per_year": 277,
          "index": 25,
          "year": 1977
         },
         {
          "avg_parts_per_year": 333,
          "index": 26,
          "year": 1978
         },
         {
          "avg_parts_per_year": 374,
          "index": 27,
          "year": 1979
         },
         {
          "avg_parts_per_year": 490,
          "index": 28,
          "year": 1980
         },
         {
          "avg_parts_per_year": 423,
          "index": 29,
          "year": 1981
         },
         {
          "avg_parts_per_year": 427,
          "index": 30,
          "year": 1982
         },
         {
          "avg_parts_per_year": 479,
          "index": 31,
          "year": 1983
         },
         {
          "avg_parts_per_year": 528,
          "index": 32,
          "year": 1984
         },
         {
          "avg_parts_per_year": 744,
          "index": 33,
          "year": 1985
         },
         {
          "avg_parts_per_year": 705,
          "index": 34,
          "year": 1986
         },
         {
          "avg_parts_per_year": 789,
          "index": 35,
          "year": 1987
         },
         {
          "avg_parts_per_year": 719,
          "index": 36,
          "year": 1988
         },
         {
          "avg_parts_per_year": 740,
          "index": 37,
          "year": 1989
         },
         {
          "avg_parts_per_year": 770,
          "index": 38,
          "year": 1990
         },
         {
          "avg_parts_per_year": 836,
          "index": 39,
          "year": 1991
         },
         {
          "avg_parts_per_year": 854,
          "index": 40,
          "year": 1992
         },
         {
          "avg_parts_per_year": 942,
          "index": 41,
          "year": 1993
         },
         {
          "avg_parts_per_year": 1016,
          "index": 42,
          "year": 1994
         },
         {
          "avg_parts_per_year": 1087,
          "index": 43,
          "year": 1995
         },
         {
          "avg_parts_per_year": 1252,
          "index": 44,
          "year": 1996
         },
         {
          "avg_parts_per_year": 1483,
          "index": 45,
          "year": 1997
         },
         {
          "avg_parts_per_year": 1572,
          "index": 46,
          "year": 1998
         },
         {
          "avg_parts_per_year": 1684,
          "index": 47,
          "year": 1999
         },
         {
          "avg_parts_per_year": 1598,
          "index": 48,
          "year": 2000
         },
         {
          "avg_parts_per_year": 1722,
          "index": 49,
          "year": 2001
         },
         {
          "avg_parts_per_year": 2063,
          "index": 50,
          "year": 2002
         },
         {
          "avg_parts_per_year": 2262,
          "index": 51,
          "year": 2003
         },
         {
          "avg_parts_per_year": 2196,
          "index": 52,
          "year": 2004
         },
         {
          "avg_parts_per_year": 1962,
          "index": 53,
          "year": 2005
         },
         {
          "avg_parts_per_year": 2190,
          "index": 54,
          "year": 2006
         },
         {
          "avg_parts_per_year": 1853,
          "index": 55,
          "year": 2007
         },
         {
          "avg_parts_per_year": 2105,
          "index": 56,
          "year": 2008
         },
         {
          "avg_parts_per_year": 2154,
          "index": 57,
          "year": 2009
         },
         {
          "avg_parts_per_year": 2469,
          "index": 58,
          "year": 2010
         },
         {
          "avg_parts_per_year": 3046,
          "index": 59,
          "year": 2011
         },
         {
          "avg_parts_per_year": 3770,
          "index": 60,
          "year": 2012
         },
         {
          "avg_parts_per_year": 3786,
          "index": 61,
          "year": 2013
         },
         {
          "avg_parts_per_year": 3726,
          "index": 62,
          "year": 2014
         },
         {
          "avg_parts_per_year": 4166,
          "index": 63,
          "year": 2015
         },
         {
          "avg_parts_per_year": 4297,
          "index": 64,
          "year": 2016
         },
         {
          "avg_parts_per_year": 3013,
          "index": 65,
          "year": 2017
         }
        ],
        "schema": {
         "fields": [
          {
           "name": "index",
           "type": "integer"
          },
          {
           "name": "year",
           "type": "integer"
          },
          {
           "name": "avg_parts_per_year",
           "type": "number"
          }
         ],
         "pandas_version": "1.4.0",
         "primaryKey": [
          "index"
         ]
        }
       },
       "total_rows": 66,
       "truncation_type": null
      },
      "text/html": [
       "<div>\n",
       "<style scoped>\n",
       "    .dataframe tbody tr th:only-of-type {\n",
       "        vertical-align: middle;\n",
       "    }\n",
       "\n",
       "    .dataframe tbody tr th {\n",
       "        vertical-align: top;\n",
       "    }\n",
       "\n",
       "    .dataframe thead th {\n",
       "        text-align: right;\n",
       "    }\n",
       "</style>\n",
       "<table border=\"1\" class=\"dataframe\">\n",
       "  <thead>\n",
       "    <tr style=\"text-align: right;\">\n",
       "      <th></th>\n",
       "      <th>year</th>\n",
       "      <th>avg_parts_per_year</th>\n",
       "    </tr>\n",
       "  </thead>\n",
       "  <tbody>\n",
       "    <tr>\n",
       "      <th>0</th>\n",
       "      <td>1950</td>\n",
       "      <td>6.0</td>\n",
       "    </tr>\n",
       "    <tr>\n",
       "      <th>1</th>\n",
       "      <td>1953</td>\n",
       "      <td>6.0</td>\n",
       "    </tr>\n",
       "    <tr>\n",
       "      <th>2</th>\n",
       "      <td>1954</td>\n",
       "      <td>27.0</td>\n",
       "    </tr>\n",
       "    <tr>\n",
       "      <th>3</th>\n",
       "      <td>1955</td>\n",
       "      <td>86.0</td>\n",
       "    </tr>\n",
       "    <tr>\n",
       "      <th>4</th>\n",
       "      <td>1956</td>\n",
       "      <td>47.0</td>\n",
       "    </tr>\n",
       "    <tr>\n",
       "      <th>...</th>\n",
       "      <td>...</td>\n",
       "      <td>...</td>\n",
       "    </tr>\n",
       "    <tr>\n",
       "      <th>61</th>\n",
       "      <td>2013</td>\n",
       "      <td>3786.0</td>\n",
       "    </tr>\n",
       "    <tr>\n",
       "      <th>62</th>\n",
       "      <td>2014</td>\n",
       "      <td>3726.0</td>\n",
       "    </tr>\n",
       "    <tr>\n",
       "      <th>63</th>\n",
       "      <td>2015</td>\n",
       "      <td>4166.0</td>\n",
       "    </tr>\n",
       "    <tr>\n",
       "      <th>64</th>\n",
       "      <td>2016</td>\n",
       "      <td>4297.0</td>\n",
       "    </tr>\n",
       "    <tr>\n",
       "      <th>65</th>\n",
       "      <td>2017</td>\n",
       "      <td>3013.0</td>\n",
       "    </tr>\n",
       "  </tbody>\n",
       "</table>\n",
       "<p>66 rows × 2 columns</p>\n",
       "</div>"
      ],
      "text/plain": [
       "    year  avg_parts_per_year\n",
       "0   1950                 6.0\n",
       "1   1953                 6.0\n",
       "2   1954                27.0\n",
       "3   1955                86.0\n",
       "4   1956                47.0\n",
       "..   ...                 ...\n",
       "61  2013              3786.0\n",
       "62  2014              3726.0\n",
       "63  2015              4166.0\n",
       "64  2016              4297.0\n",
       "65  2017              3013.0\n",
       "\n",
       "[66 rows x 2 columns]"
      ]
     },
     "execution_count": 66,
     "metadata": {},
     "output_type": "execute_result"
    }
   ],
   "source": []
  },
  {
   "cell_type": "markdown",
   "id": "0ced9993-6bf7-4858-aeb1-9f7025384bc3",
   "metadata": {},
   "source": [
    "### Q4: What are the 5 most popular colors used in Lego parts?\n",
    "\n",
    "The first step to answering this question is providing some clarity to the meaning of _**popular color**_. Based on the available information, a color is popular either  \n",
    "- when there are many different parts in that color existing in the inventory **(a)**, or\n",
    "- when the quantity of parts is large in that particular color **(b)**.\n",
    "\n",
    "It is unclear to me which one of these interpretations of the popular color is preferred, so a solution is presented for each of them.\n",
    "\n",
    "Note that even though the `colors` table has the attribute `id` as the unique identifier, the `name` attribute is also unique among the records of the `colors` table. To verify this, the following queries were executed:\n",
    "- `SELECT COUNT(DISTINCT name) FROM colors`, and\n",
    "- `SELECT COUNT(*) FROM colors`\n",
    "Both queries return the same result, `135`.\n",
    "\n",
    "The two solutions presented below return the results for the top 5 favourite colors. A visual inspection of the two charts reveals that the ratios are very similar between them.\n"
   ]
  },
  {
   "cell_type": "code",
   "execution_count": 67,
   "id": "9bb2f4c2-bb60-4450-a660-c781fee70364",
   "metadata": {
    "chartConfig": {
     "bar": {
      "hasRoundedCorners": true,
      "stacked": false
     },
     "type": "bar",
     "version": "v1"
    },
    "customType": "sql",
    "dataFrameVariableName": "parts_colors_a",
    "executionTime": 1495,
    "initial": false,
    "integrationId": "fe6a1b73-7874-4e69-b6fb-fe69bb8b4667",
    "lastSuccessfullyExecutedCode": "SELECT c.name, COUNT(ip.part_num) AS num_parts\nFROM colors c JOIN inventory_parts ip ON c.id = ip.color_id\nGROUP BY c.name\nORDER BY num_parts DESC\nLIMIT 5\n",
    "visualizeDataframe": false
   },
   "outputs": [
    {
     "data": {
      "application/com.datacamp.data-table.v1+json": {
       "table": {
        "data": [
         {
          "index": 0,
          "name": "Black",
          "num_parts": 115085
         },
         {
          "index": 1,
          "name": "White",
          "num_parts": 66536
         },
         {
          "index": 2,
          "name": "Light Bluish Gray",
          "num_parts": 55302
         },
         {
          "index": 3,
          "name": "Red",
          "num_parts": 50213
         },
         {
          "index": 4,
          "name": "Dark Bluish Gray",
          "num_parts": 43907
         }
        ],
        "schema": {
         "fields": [
          {
           "name": "index",
           "type": "integer"
          },
          {
           "name": "name",
           "type": "string"
          },
          {
           "name": "num_parts",
           "type": "integer"
          }
         ],
         "pandas_version": "1.4.0",
         "primaryKey": [
          "index"
         ]
        }
       },
       "total_rows": 5,
       "truncation_type": null
      },
      "text/html": [
       "<div>\n",
       "<style scoped>\n",
       "    .dataframe tbody tr th:only-of-type {\n",
       "        vertical-align: middle;\n",
       "    }\n",
       "\n",
       "    .dataframe tbody tr th {\n",
       "        vertical-align: top;\n",
       "    }\n",
       "\n",
       "    .dataframe thead th {\n",
       "        text-align: right;\n",
       "    }\n",
       "</style>\n",
       "<table border=\"1\" class=\"dataframe\">\n",
       "  <thead>\n",
       "    <tr style=\"text-align: right;\">\n",
       "      <th></th>\n",
       "      <th>name</th>\n",
       "      <th>num_parts</th>\n",
       "    </tr>\n",
       "  </thead>\n",
       "  <tbody>\n",
       "    <tr>\n",
       "      <th>0</th>\n",
       "      <td>Black</td>\n",
       "      <td>115085</td>\n",
       "    </tr>\n",
       "    <tr>\n",
       "      <th>1</th>\n",
       "      <td>White</td>\n",
       "      <td>66536</td>\n",
       "    </tr>\n",
       "    <tr>\n",
       "      <th>2</th>\n",
       "      <td>Light Bluish Gray</td>\n",
       "      <td>55302</td>\n",
       "    </tr>\n",
       "    <tr>\n",
       "      <th>3</th>\n",
       "      <td>Red</td>\n",
       "      <td>50213</td>\n",
       "    </tr>\n",
       "    <tr>\n",
       "      <th>4</th>\n",
       "      <td>Dark Bluish Gray</td>\n",
       "      <td>43907</td>\n",
       "    </tr>\n",
       "  </tbody>\n",
       "</table>\n",
       "</div>"
      ],
      "text/plain": [
       "                name  num_parts\n",
       "0              Black     115085\n",
       "1              White      66536\n",
       "2  Light Bluish Gray      55302\n",
       "3                Red      50213\n",
       "4   Dark Bluish Gray      43907"
      ]
     },
     "execution_count": 67,
     "metadata": {},
     "output_type": "execute_result"
    }
   ],
   "source": [
    "SELECT c.name, COUNT(ip.part_num) AS num_parts\n",
    "FROM colors c JOIN inventory_parts ip ON c.id = ip.color_id\n",
    "GROUP BY c.name\n",
    "ORDER BY num_parts DESC\n",
    "LIMIT 5\n"
   ]
  },
  {
   "cell_type": "code",
   "execution_count": 68,
   "id": "9b465656-b671-4273-ab4f-d62980801e07",
   "metadata": {
    "chartConfig": {
     "bar": {
      "hasRoundedCorners": true,
      "stacked": false
     },
     "title": "Top 5 favorite colors for parts (Solution (a))",
     "type": "bar",
     "version": "v1",
     "x": {
      "field": "name",
      "type": "string"
     },
     "y": {
      "field": "num_parts",
      "type": "integer"
     }
    },
    "customType": "visualization",
    "dataFrameVariableName": "parts_colors_a",
    "executionCancelledAt": null,
    "executionTime": 623,
    "initial": false,
    "lastExecutedAt": 1685504594331,
    "lastScheduledRunId": null,
    "lastSuccessfullyExecutedCode": ""
   },
   "outputs": [
    {
     "ename": "NameError",
     "evalue": "name 'parts_colors_a' is not defined",
     "output_type": "error",
     "traceback": [
      "\u001b[0;31m---------------------------------------------------------------------------\u001b[0m",
      "\u001b[0;31mNameError\u001b[0m                                 Traceback (most recent call last)",
      "Input \u001b[0;32mIn [1]\u001b[0m, in \u001b[0;36m<cell line: 1>\u001b[0;34m()\u001b[0m\n\u001b[0;32m----> 1\u001b[0m \u001b[43mparts_colors_a\u001b[49m\u001b[38;5;241m.\u001b[39m_dc_cell_type \u001b[38;5;241m=\u001b[39m \u001b[38;5;124m'\u001b[39m\u001b[38;5;124mvisualization\u001b[39m\u001b[38;5;124m'\u001b[39m\n\u001b[1;32m      2\u001b[0m parts_colors_a\n",
      "\u001b[0;31mNameError\u001b[0m: name 'parts_colors_a' is not defined"
     ]
    }
   ],
   "source": []
  },
  {
   "cell_type": "code",
   "execution_count": 69,
   "id": "5b53d80a-8ef9-407d-95aa-f5d0c639e001",
   "metadata": {
    "customType": "sql",
    "dataFrameVariableName": "parts_color_b",
    "executionTime": 1279,
    "initial": false,
    "integrationId": "fe6a1b73-7874-4e69-b6fb-fe69bb8b4667",
    "lastSuccessfullyExecutedCode": "SELECT c.name, SUM(ip.quantity) AS num_parts\nFROM colors c JOIN inventory_parts ip ON c.id = ip.color_id\nGROUP BY c.name\nORDER BY num_parts DESC\nLIMIT 5"
   },
   "outputs": [
    {
     "data": {
      "application/com.datacamp.data-table.v1+json": {
       "table": {
        "data": [
         {
          "index": 0,
          "name": "Black",
          "num_parts": 396416
         },
         {
          "index": 1,
          "name": "White",
          "num_parts": 221553
         },
         {
          "index": 2,
          "name": "Light Bluish Gray",
          "num_parts": 201858
         },
         {
          "index": 3,
          "name": "Red",
          "num_parts": 169983
         },
         {
          "index": 4,
          "name": "Dark Bluish Gray",
          "num_parts": 148584
         }
        ],
        "schema": {
         "fields": [
          {
           "name": "index",
           "type": "integer"
          },
          {
           "name": "name",
           "type": "string"
          },
          {
           "name": "num_parts",
           "type": "integer"
          }
         ],
         "pandas_version": "1.4.0",
         "primaryKey": [
          "index"
         ]
        }
       },
       "total_rows": 5,
       "truncation_type": null
      },
      "text/html": [
       "<div>\n",
       "<style scoped>\n",
       "    .dataframe tbody tr th:only-of-type {\n",
       "        vertical-align: middle;\n",
       "    }\n",
       "\n",
       "    .dataframe tbody tr th {\n",
       "        vertical-align: top;\n",
       "    }\n",
       "\n",
       "    .dataframe thead th {\n",
       "        text-align: right;\n",
       "    }\n",
       "</style>\n",
       "<table border=\"1\" class=\"dataframe\">\n",
       "  <thead>\n",
       "    <tr style=\"text-align: right;\">\n",
       "      <th></th>\n",
       "      <th>name</th>\n",
       "      <th>num_parts</th>\n",
       "    </tr>\n",
       "  </thead>\n",
       "  <tbody>\n",
       "    <tr>\n",
       "      <th>0</th>\n",
       "      <td>Black</td>\n",
       "      <td>396416</td>\n",
       "    </tr>\n",
       "    <tr>\n",
       "      <th>1</th>\n",
       "      <td>White</td>\n",
       "      <td>221553</td>\n",
       "    </tr>\n",
       "    <tr>\n",
       "      <th>2</th>\n",
       "      <td>Light Bluish Gray</td>\n",
       "      <td>201858</td>\n",
       "    </tr>\n",
       "    <tr>\n",
       "      <th>3</th>\n",
       "      <td>Red</td>\n",
       "      <td>169983</td>\n",
       "    </tr>\n",
       "    <tr>\n",
       "      <th>4</th>\n",
       "      <td>Dark Bluish Gray</td>\n",
       "      <td>148584</td>\n",
       "    </tr>\n",
       "  </tbody>\n",
       "</table>\n",
       "</div>"
      ],
      "text/plain": [
       "                name  num_parts\n",
       "0              Black     396416\n",
       "1              White     221553\n",
       "2  Light Bluish Gray     201858\n",
       "3                Red     169983\n",
       "4   Dark Bluish Gray     148584"
      ]
     },
     "execution_count": 69,
     "metadata": {},
     "output_type": "execute_result"
    }
   ],
   "source": [
    "SELECT c.name, SUM(ip.quantity) AS num_parts\n",
    "FROM colors c JOIN inventory_parts ip ON c.id = ip.color_id\n",
    "GROUP BY c.name\n",
    "ORDER BY num_parts DESC\n",
    "LIMIT 5"
   ]
  },
  {
   "cell_type": "code",
   "execution_count": 70,
   "id": "164016aa-e505-428f-9816-2f4362471a11",
   "metadata": {
    "chartConfig": {
     "bar": {
      "hasRoundedCorners": true,
      "stacked": false
     },
     "title": "Top 5 favorite colors for parts (Solution (b))",
     "type": "bar",
     "version": "v1",
     "x": {
      "field": "name",
      "type": "string"
     },
     "y": {
      "field": "num_parts",
      "type": "integer"
     }
    },
    "customType": "visualization",
    "dataFrameVariableName": "parts_color_b",
    "executionCancelledAt": 1685504594330,
    "executionTime": 93,
    "initial": false,
    "lastSuccessfullyExecutedCode": "# This is a chart, switch to the DataCamp editor to view and configure it."
   },
   "outputs": [
    {
     "data": {
      "application/com.datacamp.data-table.v1+json": {
       "table": {
        "data": [
         {
          "index": 0,
          "name": "Black",
          "num_parts": 396416
         },
         {
          "index": 1,
          "name": "White",
          "num_parts": 221553
         },
         {
          "index": 2,
          "name": "Light Bluish Gray",
          "num_parts": 201858
         },
         {
          "index": 3,
          "name": "Red",
          "num_parts": 169983
         },
         {
          "index": 4,
          "name": "Dark Bluish Gray",
          "num_parts": 148584
         }
        ],
        "schema": {
         "fields": [
          {
           "name": "index",
           "type": "integer"
          },
          {
           "name": "name",
           "type": "string"
          },
          {
           "name": "num_parts",
           "type": "integer"
          }
         ],
         "pandas_version": "1.4.0",
         "primaryKey": [
          "index"
         ]
        }
       },
       "total_rows": 5,
       "truncation_type": null
      },
      "text/html": [
       "<div>\n",
       "<style scoped>\n",
       "    .dataframe tbody tr th:only-of-type {\n",
       "        vertical-align: middle;\n",
       "    }\n",
       "\n",
       "    .dataframe tbody tr th {\n",
       "        vertical-align: top;\n",
       "    }\n",
       "\n",
       "    .dataframe thead th {\n",
       "        text-align: right;\n",
       "    }\n",
       "</style>\n",
       "<table border=\"1\" class=\"dataframe\">\n",
       "  <thead>\n",
       "    <tr style=\"text-align: right;\">\n",
       "      <th></th>\n",
       "      <th>name</th>\n",
       "      <th>num_parts</th>\n",
       "    </tr>\n",
       "  </thead>\n",
       "  <tbody>\n",
       "    <tr>\n",
       "      <th>0</th>\n",
       "      <td>Black</td>\n",
       "      <td>396416</td>\n",
       "    </tr>\n",
       "    <tr>\n",
       "      <th>1</th>\n",
       "      <td>White</td>\n",
       "      <td>221553</td>\n",
       "    </tr>\n",
       "    <tr>\n",
       "      <th>2</th>\n",
       "      <td>Light Bluish Gray</td>\n",
       "      <td>201858</td>\n",
       "    </tr>\n",
       "    <tr>\n",
       "      <th>3</th>\n",
       "      <td>Red</td>\n",
       "      <td>169983</td>\n",
       "    </tr>\n",
       "    <tr>\n",
       "      <th>4</th>\n",
       "      <td>Dark Bluish Gray</td>\n",
       "      <td>148584</td>\n",
       "    </tr>\n",
       "  </tbody>\n",
       "</table>\n",
       "</div>"
      ],
      "text/plain": [
       "                name  num_parts\n",
       "0              Black     396416\n",
       "1              White     221553\n",
       "2  Light Bluish Gray     201858\n",
       "3                Red     169983\n",
       "4   Dark Bluish Gray     148584"
      ]
     },
     "execution_count": 70,
     "metadata": {},
     "output_type": "execute_result"
    }
   ],
   "source": [
    "# This is a chart, switch to the DataCamp editor to view and configure it."
   ]
  },
  {
   "cell_type": "markdown",
   "id": "950f537d-e02a-4c70-bffd-709ce9cf5cd1",
   "metadata": {},
   "source": [
    "### Q5: What proportion of the lego parts are transparent?\n",
    "\n",
    "A _**transparent**_ part is one that has a transparent color, indicated by the `is_trans` attribute of the `colors` table. The same part (`part_num`) can be ordered in various colors, either transparent or not. Note that there are `1455` parts that are not part of the `inventory_parts`, so no conclusion can be drawn with respect to these ones.\n",
    "\n",
    "To answer this question, either the quantity of the parts or the number of distinct parts can be used as measure. If the quantities of the parts is used, the following formula is applied:\n",
    "\n",
    "$$TransparentParts = \\frac{QuantityOfTransparentParts}{QuantityOfAllParts}.$$\n",
    "\n",
    "Alternatively, if the number of distinct parts is used, the following formula is applied:\n",
    "\n",
    "$$TransparentParts = \\frac{NumberOfTransparentParts}{NumberOfAllParts}.$$\n",
    "\n",
    "Two solutions are presented, one for each of the formulas above. Interestingly, although each solution returns a different result, they are very close in range. Since a part can be ordered in various colors, the difference in the two numbers can be explained as an overcounting of the parts.\n",
    "\n",
    "- When the first formula is used, `4.94%` of the Lego parts are transparent.\n",
    "- When the second formula is used, `6.29%` of the Lego parts are transparent.\n",
    "\n",
    "When the second formula is used, the parts can be counted in different ways: considering their color, or disregarding the color. That is, part `(A, red)` is different than part `(A, blue)`. When the counting is done in this way, a different final numbers are obtained, `6.11%`. Note that  `6.11%` and `6.29%` are very close in range, indicating that overcounting is less prevalent in this case."
   ]
  },
  {
   "cell_type": "code",
   "execution_count": 71,
   "id": "c7d5162d-cd5d-480e-938f-40cae5b76f69",
   "metadata": {
    "customType": "sql",
    "dataFrameVariableName": "df",
    "executionTime": 1345,
    "initial": false,
    "integrationId": "fe6a1b73-7874-4e69-b6fb-fe69bb8b4667",
    "lastSuccessfullyExecutedCode": "WITH quantity_all AS\n(SELECT SUM(quantity) AS total\n FROM inventory_parts\n),\nquantity_transparent_parts AS\n(SELECT SUM(ip.quantity) AS trans_parts\n FROM colors c JOIN inventory_parts ip ON c.is_trans = True AND c.id = ip.color_id \n)\nSELECT ROUND(trans_parts * 100.0/total, 2)\nFROM quantity_all, quantity_transparent_parts"
   },
   "outputs": [
    {
     "data": {
      "application/com.datacamp.data-table.v1+json": {
       "table": {
        "data": [
         {
          "index": 0,
          "round": 4.94
         }
        ],
        "schema": {
         "fields": [
          {
           "name": "index",
           "type": "integer"
          },
          {
           "name": "round",
           "type": "number"
          }
         ],
         "pandas_version": "1.4.0",
         "primaryKey": [
          "index"
         ]
        }
       },
       "total_rows": 1,
       "truncation_type": null
      },
      "text/html": [
       "<div>\n",
       "<style scoped>\n",
       "    .dataframe tbody tr th:only-of-type {\n",
       "        vertical-align: middle;\n",
       "    }\n",
       "\n",
       "    .dataframe tbody tr th {\n",
       "        vertical-align: top;\n",
       "    }\n",
       "\n",
       "    .dataframe thead th {\n",
       "        text-align: right;\n",
       "    }\n",
       "</style>\n",
       "<table border=\"1\" class=\"dataframe\">\n",
       "  <thead>\n",
       "    <tr style=\"text-align: right;\">\n",
       "      <th></th>\n",
       "      <th>round</th>\n",
       "    </tr>\n",
       "  </thead>\n",
       "  <tbody>\n",
       "    <tr>\n",
       "      <th>0</th>\n",
       "      <td>4.94</td>\n",
       "    </tr>\n",
       "  </tbody>\n",
       "</table>\n",
       "</div>"
      ],
      "text/plain": [
       "   round\n",
       "0   4.94"
      ]
     },
     "execution_count": 71,
     "metadata": {},
     "output_type": "execute_result"
    }
   ],
   "source": [
    "WITH quantity_all AS\n",
    "(SELECT SUM(quantity) AS total\n",
    " FROM inventory_parts\n",
    "),\n",
    "quantity_transparent_parts AS\n",
    "(SELECT SUM(ip.quantity) AS trans_parts\n",
    " FROM colors c JOIN inventory_parts ip ON c.is_trans = True AND c.id = ip.color_id \n",
    ")\n",
    "SELECT ROUND(trans_parts * 100.0/total, 2)\n",
    "FROM quantity_all, quantity_transparent_parts"
   ]
  },
  {
   "cell_type": "code",
   "execution_count": 76,
   "id": "19c8c4ca-9339-47f7-ae14-db48adc60379",
   "metadata": {
    "customType": "sql",
    "dataFrameVariableName": "df",
    "executionTime": 2842,
    "initial": false,
    "integrationId": "fe6a1b73-7874-4e69-b6fb-fe69bb8b4667",
    "lastSuccessfullyExecutedCode": "WITH all_parts AS\n(SELECT COUNT(DISTINCT part_num) AS total\n FROM inventory_parts\n),\ntransparent_parts AS\n(SELECT COUNT(DISTINCT part_num) AS trans_parts\n FROM colors c JOIN inventory_parts ip ON c.is_trans = True AND c.id = ip.color_id \n)\nSELECT ROUND(trans_parts * 100.0/total ,2)\nFROM all_parts, transparent_parts"
   },
   "outputs": [
    {
     "data": {
      "application/com.datacamp.data-table.v1+json": {
       "table": {
        "data": [
         {
          "index": 0,
          "round": 6.29
         }
        ],
        "schema": {
         "fields": [
          {
           "name": "index",
           "type": "integer"
          },
          {
           "name": "round",
           "type": "number"
          }
         ],
         "pandas_version": "1.4.0",
         "primaryKey": [
          "index"
         ]
        }
       },
       "total_rows": 1,
       "truncation_type": null
      },
      "text/html": [
       "<div>\n",
       "<style scoped>\n",
       "    .dataframe tbody tr th:only-of-type {\n",
       "        vertical-align: middle;\n",
       "    }\n",
       "\n",
       "    .dataframe tbody tr th {\n",
       "        vertical-align: top;\n",
       "    }\n",
       "\n",
       "    .dataframe thead th {\n",
       "        text-align: right;\n",
       "    }\n",
       "</style>\n",
       "<table border=\"1\" class=\"dataframe\">\n",
       "  <thead>\n",
       "    <tr style=\"text-align: right;\">\n",
       "      <th></th>\n",
       "      <th>round</th>\n",
       "    </tr>\n",
       "  </thead>\n",
       "  <tbody>\n",
       "    <tr>\n",
       "      <th>0</th>\n",
       "      <td>6.29</td>\n",
       "    </tr>\n",
       "  </tbody>\n",
       "</table>\n",
       "</div>"
      ],
      "text/plain": [
       "   round\n",
       "0   6.29"
      ]
     },
     "execution_count": 76,
     "metadata": {},
     "output_type": "execute_result"
    }
   ],
   "source": [
    "WITH all_parts AS\n",
    "(SELECT COUNT(DISTINCT part_num) AS total\n",
    " FROM inventory_parts\n",
    "),\n",
    "transparent_parts AS\n",
    "(SELECT COUNT(DISTINCT part_num) AS trans_parts\n",
    " FROM colors c JOIN inventory_parts ip ON c.is_trans = True AND c.id = ip.color_id \n",
    ")\n",
    "SELECT ROUND(trans_parts * 100.0/total ,2)\n",
    "FROM all_parts, transparent_parts"
   ]
  },
  {
   "cell_type": "code",
   "execution_count": 73,
   "id": "5dfaa6f3-40d2-49c4-a3e0-093d8f4b6b25",
   "metadata": {
    "customType": "sql",
    "dataFrameVariableName": "df",
    "executionTime": 1393,
    "initial": false,
    "integrationId": "fe6a1b73-7874-4e69-b6fb-fe69bb8b4667",
    "lastSuccessfullyExecutedCode": "WITH all_parts AS\n(SELECT COUNT(*)  AS total \nFROM\n(SELECT part_num, color_id\n FROM inventory_parts\n GROUP BY part_num, color_id\n) T\n),\ntransparent_parts AS\n(SELECT COUNT(*)  AS total_transparent\n FROM\n(SELECT part_num, color_id\n FROM colors c JOIN inventory_parts ip ON c.is_trans = True AND c.id = ip.color_id \n GROUP BY part_num, color_id\n) T\n)\nSELECT ROUND(total_transparent * 100.0/total ,2)\nFROM all_parts, transparent_parts\n"
   },
   "outputs": [
    {
     "data": {
      "application/com.datacamp.data-table.v1+json": {
       "table": {
        "data": [
         {
          "index": 0,
          "round": 6.11
         }
        ],
        "schema": {
         "fields": [
          {
           "name": "index",
           "type": "integer"
          },
          {
           "name": "round",
           "type": "number"
          }
         ],
         "pandas_version": "1.4.0",
         "primaryKey": [
          "index"
         ]
        }
       },
       "total_rows": 1,
       "truncation_type": null
      },
      "text/html": [
       "<div>\n",
       "<style scoped>\n",
       "    .dataframe tbody tr th:only-of-type {\n",
       "        vertical-align: middle;\n",
       "    }\n",
       "\n",
       "    .dataframe tbody tr th {\n",
       "        vertical-align: top;\n",
       "    }\n",
       "\n",
       "    .dataframe thead th {\n",
       "        text-align: right;\n",
       "    }\n",
       "</style>\n",
       "<table border=\"1\" class=\"dataframe\">\n",
       "  <thead>\n",
       "    <tr style=\"text-align: right;\">\n",
       "      <th></th>\n",
       "      <th>round</th>\n",
       "    </tr>\n",
       "  </thead>\n",
       "  <tbody>\n",
       "    <tr>\n",
       "      <th>0</th>\n",
       "      <td>6.11</td>\n",
       "    </tr>\n",
       "  </tbody>\n",
       "</table>\n",
       "</div>"
      ],
      "text/plain": [
       "   round\n",
       "0   6.11"
      ]
     },
     "execution_count": 73,
     "metadata": {},
     "output_type": "execute_result"
    }
   ],
   "source": [
    "WITH all_parts AS\n",
    "(SELECT COUNT(*)  AS total \n",
    "FROM\n",
    "(SELECT part_num, color_id\n",
    " FROM inventory_parts\n",
    " GROUP BY part_num, color_id\n",
    ") T\n",
    "),\n",
    "transparent_parts AS\n",
    "(SELECT COUNT(*)  AS total_transparent\n",
    " FROM\n",
    "(SELECT part_num, color_id\n",
    " FROM colors c JOIN inventory_parts ip ON c.is_trans = True AND c.id = ip.color_id \n",
    " GROUP BY part_num, color_id\n",
    ") T\n",
    ")\n",
    "SELECT ROUND(total_transparent * 100.0/total ,2)\n",
    "FROM all_parts, transparent_parts\n"
   ]
  },
  {
   "cell_type": "markdown",
   "id": "247add36-c0c6-495e-8775-966e950521cd",
   "metadata": {},
   "source": [
    "### Q6: What are the rarest Lego bricks?\n",
    "\n",
    "An analysis of the `part_categories` table reveals that there are 8 different `Bricks` categories. \n",
    "\n",
    "There are different ways in which we can measure a brick's rarity. One way is to check each of the 8 categories of bricks and choose the one with the smallest number of parts in that category. `Technic Bricks` is the category with the smallest number of parts, `26`. \n",
    "\n",
    "Another way to define the rarity of bricks is by checking the representation of all categories of bricks in the inventory. There are `838` rare bricks, that appear just once in the inventory.\n",
    "\n"
   ]
  },
  {
   "cell_type": "code",
   "execution_count": 74,
   "id": "c04e394f-8638-42f4-940d-e1b095a10cfd",
   "metadata": {
    "chartConfig": {
     "bar": {
      "hasRoundedCorners": true,
      "stacked": false
     },
     "title": "Bricks Categories",
     "type": "bar",
     "version": "v1",
     "x": {
      "field": "name",
      "type": "string"
     },
     "y": {
      "field": "ctn",
      "type": "integer"
     }
    },
    "customType": "sql",
    "dataFrameVariableName": "bricks_categories",
    "executionTime": 1417,
    "initial": false,
    "integrationId": "fe6a1b73-7874-4e69-b6fb-fe69bb8b4667",
    "lastSuccessfullyExecutedCode": "SELECT pc.name, COUNT(*) AS ctn\nFROM part_categories pc JOIN parts p ON pc.name LIKE '%Brick%' AND pc.id = p.part_cat_id\nGROUP BY pc.id\nORDER BY ctn",
    "visualizeDataframe": true
   },
   "outputs": [
    {
     "data": {
      "application/com.datacamp.data-table.v1+json": {
       "table": {
        "data": [
         {
          "ctn": 26,
          "index": 0,
          "name": "Technic Bricks"
         },
         {
          "ctn": 93,
          "index": 1,
          "name": "Bricks"
         },
         {
          "ctn": 116,
          "index": 2,
          "name": "Bricks Special"
         },
         {
          "ctn": 198,
          "index": 3,
          "name": "Bricks Wedged"
         },
         {
          "ctn": 219,
          "index": 4,
          "name": "Bricks Round and Cones"
         },
         {
          "ctn": 275,
          "index": 5,
          "name": "Bricks Curved"
         },
         {
          "ctn": 410,
          "index": 6,
          "name": "Bricks Sloped"
         },
         {
          "ctn": 744,
          "index": 7,
          "name": "Bricks Printed"
         }
        ],
        "schema": {
         "fields": [
          {
           "name": "index",
           "type": "integer"
          },
          {
           "name": "name",
           "type": "string"
          },
          {
           "name": "ctn",
           "type": "integer"
          }
         ],
         "pandas_version": "1.4.0",
         "primaryKey": [
          "index"
         ]
        }
       },
       "total_rows": 8,
       "truncation_type": null
      },
      "text/html": [
       "<div>\n",
       "<style scoped>\n",
       "    .dataframe tbody tr th:only-of-type {\n",
       "        vertical-align: middle;\n",
       "    }\n",
       "\n",
       "    .dataframe tbody tr th {\n",
       "        vertical-align: top;\n",
       "    }\n",
       "\n",
       "    .dataframe thead th {\n",
       "        text-align: right;\n",
       "    }\n",
       "</style>\n",
       "<table border=\"1\" class=\"dataframe\">\n",
       "  <thead>\n",
       "    <tr style=\"text-align: right;\">\n",
       "      <th></th>\n",
       "      <th>name</th>\n",
       "      <th>ctn</th>\n",
       "    </tr>\n",
       "  </thead>\n",
       "  <tbody>\n",
       "    <tr>\n",
       "      <th>0</th>\n",
       "      <td>Technic Bricks</td>\n",
       "      <td>26</td>\n",
       "    </tr>\n",
       "    <tr>\n",
       "      <th>1</th>\n",
       "      <td>Bricks</td>\n",
       "      <td>93</td>\n",
       "    </tr>\n",
       "    <tr>\n",
       "      <th>2</th>\n",
       "      <td>Bricks Special</td>\n",
       "      <td>116</td>\n",
       "    </tr>\n",
       "    <tr>\n",
       "      <th>3</th>\n",
       "      <td>Bricks Wedged</td>\n",
       "      <td>198</td>\n",
       "    </tr>\n",
       "    <tr>\n",
       "      <th>4</th>\n",
       "      <td>Bricks Round and Cones</td>\n",
       "      <td>219</td>\n",
       "    </tr>\n",
       "    <tr>\n",
       "      <th>5</th>\n",
       "      <td>Bricks Curved</td>\n",
       "      <td>275</td>\n",
       "    </tr>\n",
       "    <tr>\n",
       "      <th>6</th>\n",
       "      <td>Bricks Sloped</td>\n",
       "      <td>410</td>\n",
       "    </tr>\n",
       "    <tr>\n",
       "      <th>7</th>\n",
       "      <td>Bricks Printed</td>\n",
       "      <td>744</td>\n",
       "    </tr>\n",
       "  </tbody>\n",
       "</table>\n",
       "</div>"
      ],
      "text/plain": [
       "                     name  ctn\n",
       "0          Technic Bricks   26\n",
       "1                  Bricks   93\n",
       "2          Bricks Special  116\n",
       "3           Bricks Wedged  198\n",
       "4  Bricks Round and Cones  219\n",
       "5           Bricks Curved  275\n",
       "6           Bricks Sloped  410\n",
       "7          Bricks Printed  744"
      ]
     },
     "execution_count": 74,
     "metadata": {},
     "output_type": "execute_result"
    }
   ],
   "source": [
    "SELECT pc.name, COUNT(*) AS ctn\n",
    "FROM part_categories pc JOIN parts p ON pc.name LIKE '%Brick%' AND pc.id = p.part_cat_id\n",
    "GROUP BY pc.id\n",
    "ORDER BY ctn"
   ]
  },
  {
   "cell_type": "code",
   "execution_count": 75,
   "id": "a0300714-b0b2-445e-9420-783c429705c1",
   "metadata": {
    "customType": "sql",
    "dataFrameVariableName": "df",
    "executionTime": 1561,
    "initial": false,
    "integrationId": "fe6a1b73-7874-4e69-b6fb-fe69bb8b4667",
    "lastSuccessfullyExecutedCode": "WITH min_count AS(\nSELECT COUNT(*) AS ctn\nFROM inventory_parts\nGROUP BY part_num\nORDER BY ctn\nLIMIT 1\n)\nSELECT p.name\nFROM part_categories pc JOIN parts p ON pc.name LIKE '%Brick%' AND pc.id = p.part_cat_id\nJOIN inventory_parts ip ON p.part_num = ip.part_num\nGROUP BY p.name\nHAVING COUNT(*) = (SELECT ctn FROM min_count)\n\n\n"
   },
   "outputs": [
    {
     "data": {
      "application/com.datacamp.data-table.v1+json": {
       "table": {
        "data": [
         {
          "index": 0,
          "name": "Brick 1 x 4 with Belle Dress print"
         },
         {
          "index": 1,
          "name": "BRICK 2X2, NO. 104 Horseshoe Number 1"
         },
         {
          "index": 2,
          "name": "ROUND BRICK 2X2X2, &quot;NO 1006&quot;"
         },
         {
          "index": 3,
          "name": "Slope, Curved 2 x 2 Lip, No Studs with Red Chevron and Black Fade Print (Warrior) - Set 4569"
         },
         {
          "index": 4,
          "name": "Brick 1 x 2 with Red Sterling S Print (1551)"
         },
         {
          "index": 5,
          "name": "Brick Round 2 x 2 x 2 Robot Body with 'BIG ONE' Print"
         },
         {
          "index": 6,
          "name": "Wedge 6 x 2 Left with Alpha Team Arctic Print [4744]"
         },
         {
          "index": 7,
          "name": "Brick  1 x  1 with Minecraft Micro Mob Creeper Face Print"
         },
         {
          "index": 8,
          "name": "Brick Slope 30° 1 x 2 x 2/3 with Yellow and Black Oval Batman Logo print"
         },
         {
          "index": 9,
          "name": "Brick 1 x 8 without Bottom Tubes with Cross Side Supports with Red 'Slagter' Print"
         },
         {
          "index": 10,
          "name": "Brick 1 x 6 with Blue 'CAFE' Print"
         },
         {
          "index": 11,
          "name": "Slope, Curved 4 x 1 Double No Studs with Mouth Open Print"
         },
         {
          "index": 12,
          "name": "Slope Brick 45 2 x 2 with White Number 2 Print"
         },
         {
          "index": 13,
          "name": "Slope, Curved 2 x 2 Lip, No Studs with '38' Print"
         },
         {
          "index": 14,
          "name": "Brick 1 x 1 with Blue 'A' Print (Bold Font)"
         },
         {
          "index": 15,
          "name": "Brick Round 2 x 2 Dome Top with Squinting Eyes and F1 Helmet Print [Francesco]"
         },
         {
          "index": 16,
          "name": "Brick 2 x 4 with Gold Holly and '14' Print"
         },
         {
          "index": 17,
          "name": "Brick, Modified 2 x 2 No Studs, Sloped with Flared Wings and Ghost Print (Set 4578)"
         },
         {
          "index": 18,
          "name": "Brick, Round 1 x 1 Open Stud with Plankton Character Smile Print (SpongeBob)"
         },
         {
          "index": 19,
          "name": "Brick 1 x 2 x 2 with Inside Stud Holder with White Tie Pattern"
         },
         {
          "index": 20,
          "name": "Brick, Modified 2 x 2 No Studs, Sloped with 3 Side Pistons Raised and Silver/Black/Blue Print"
         },
         {
          "index": 21,
          "name": "Wedge 6 x 4 Cutout without Stud Notches with 'C 504' Print"
         },
         {
          "index": 22,
          "name": "Slope 65º 2 x 2 x 2 with Bottom Tube with Marauders Statue Skirt Print"
         },
         {
          "index": 23,
          "name": "Brick 1 x 1 with Blue 'V' Print (Bold Font)"
         },
         {
          "index": 24,
          "name": "Brick, Modified 2 x 4 x 2 Double Curved Top with Gas Gauge Print"
         },
         {
          "index": 25,
          "name": "Brick 1 x 6 with Blue 'HOTEL' Thin Print"
         },
         {
          "index": 26,
          "name": "Brick 1 x 2 x 2 with Inside Axle Holder with Ice Cream, Cake and Coffee Print"
         },
         {
          "index": 27,
          "name": "Brick Curved 2 x 2 No Studs, Sloped with 3 Side Pistons Raised and '20' Print [4594]"
         },
         {
          "index": 28,
          "name": "Wedge 4 x 4 Triple with Stud Notches with Orange Window Frame, Yellow Stripes, Light Blue 4 Print"
         },
         {
          "index": 29,
          "name": "Brick  2 x  4 with White Cross Print"
         },
         {
          "index": 30,
          "name": "Slope Curved 4 x 1 No Studs with Gold Entwined Vines Print"
         },
         {
          "index": 31,
          "name": "Wedge 6 x 2 Right with Reptile Skin, Red Eye, White Teeth Print [7780]"
         },
         {
          "index": 32,
          "name": "Brick 2 x 2 with Two Black Rectangles Print [Orange]"
         },
         {
          "index": 33,
          "name": "Brick, Modified 2 x 4 x 2 Double Curved Top with Teddy Bear Print"
         },
         {
          "index": 34,
          "name": "Wedge 6 x 2 Right with Shark Skeleton Print [6735]"
         },
         {
          "index": 35,
          "name": "Slope Brick 33  3 x  2 with Red V Print"
         },
         {
          "index": 36,
          "name": "Brick 1 x 6 with Bottom Tubes, with 2 Lowered Cross Supports"
         },
         {
          "index": 37,
          "name": "Brick 1 x 6 x 5 with Stone and Open Mouth Snake Print (4730)"
         },
         {
          "index": 38,
          "name": "Slope 45° 2 x 2 with '4' Hot Scorcher Print"
         },
         {
          "index": 39,
          "name": "Brick 1 x 1 with Blue ':' Print (Bold Font)"
         },
         {
          "index": 40,
          "name": "Brick 1 x 8 without Bottom Tubes with Cross Side Supports with Red 'Esso Service' Long Print"
         },
         {
          "index": 41,
          "name": "Brick 2 x 2 No Studs, Sloped with 3 Side Pistons Raised and Duster Print [4576]"
         },
         {
          "index": 42,
          "name": "Slope 65° 2 x 2 x 2 with Bottom Tube with Kimono Print"
         },
         {
          "index": 43,
          "name": "Brick 1 x 4 with Black 'L 15.5 TON' and 'T 9.1 TON' Print"
         },
         {
          "index": 44,
          "name": "Brick 1 x 1 with Blue '1' Print (Bold Font)"
         },
         {
          "index": 45,
          "name": "FINAL BRICK 2X2, &quot;NO. 1006&quot;"
         },
         {
          "index": 46,
          "name": "Brick 1 x 6 with Flower and Leaves on Yellow Arch Print"
         },
         {
          "index": 47,
          "name": "Wedge  2 x  4 Triple with Brick Print"
         },
         {
          "index": 48,
          "name": "Slope Curved 4 x 1 Double No Studs with Flames Print"
         },
         {
          "index": 49,
          "name": "Slope, Curved 2 x 2 Lip, No Studs with Silver and Red with Circle Print"
         },
         {
          "index": 50,
          "name": "Slope 45° 2 x 2 with Cash Register and $39.95 Print"
         },
         {
          "index": 51,
          "name": "Wedge 4 x 4 x 2/3 Triple Curved with Windshield and Flame Print"
         },
         {
          "index": 52,
          "name": "Brick Curved 2 x 2 No Studs, Sloped with Flared Wings and Duster Print [4576]"
         },
         {
          "index": 53,
          "name": "Wedge 4 x 4 Triple without Stud Notches with Brown Oval Print"
         },
         {
          "index": 54,
          "name": "Brick 2 x 4 x 3 with 'Friends' and Butterfly front LEGO Friends Logo back Print"
         },
         {
          "index": 55,
          "name": "Brick 1 x 3 with with Teeth Print (Super Angry Kitty)"
         },
         {
          "index": 56,
          "name": "Wedge 12 x 3 Left with White Panels and Black Line Print [9497]"
         },
         {
          "index": 57,
          "name": "Brick 1 x 8 without Bottom Tubes with Cross Side Supports with Red 'Grand Theater' Bold Print"
         },
         {
          "index": 58,
          "name": "Wedge 6 x 2 Left with SW Mini AT-TE Print [4495]"
         },
         {
          "index": 59,
          "name": "PLATE, W/ BOW 2X4X2/3, Iron Man Mask"
         },
         {
          "index": 60,
          "name": "Brick 1 x 2 with Lego Logo Old Style White without Black Outline Print"
         },
         {
          "index": 61,
          "name": "Slope, Inverted 75 2 x 1 x 3 with Stars and Swirls Print"
         },
         {
          "index": 62,
          "name": "BRICK 1X3, Princess Bubblegum Print"
         },
         {
          "index": 63,
          "name": "Slope Brick 33  3 x  4 with Black \"POLICE\" and Red Line Print"
         },
         {
          "index": 64,
          "name": "ROUND BRICK 1X1 NO. 8"
         },
         {
          "index": 65,
          "name": "Brick 1 x 3 with Cat Face with Black Border Print (Astro Kitty)"
         },
         {
          "index": 66,
          "name": "Brick 1 x 1 with Blue '5' Print (Bold Font)"
         },
         {
          "index": 67,
          "name": "Slope 65 2 x 2 x 2 with Bottom Tube with Black Dress Lines and Gold Celtic Knot Print"
         },
         {
          "index": 68,
          "name": "Wedge 6 x 2 Left with Blue and Silver Wraparound Print [8374]"
         },
         {
          "index": 69,
          "name": "Brick 1 x 4 with Garage Tools Print"
         },
         {
          "index": 70,
          "name": "Slope Curved 6 x 1 with Silver and Black Print Right"
         },
         {
          "index": 71,
          "name": "BRICK 1X2 Shirt Print"
         },
         {
          "index": 72,
          "name": "Brick Modified 16 x 16 x 2/3 with 1 x 4 Indentations and 1 x 4 Plate with Checkerboard Tiles, Paws and Rugs Print"
         },
         {
          "index": 73,
          "name": "Hemisphere 11 x 11 - 4 Studs on Top with Naboo Blue / Green Planet Print (9674)"
         },
         {
          "index": 74,
          "name": "Wedge 4 x 4 No Top Studs with Black Lines Print (Spider Abdomen)"
         },
         {
          "index": 75,
          "name": "Brick 1 x 1 with Blue 'Ü' Print"
         },
         {
          "index": 76,
          "name": "Brick 1 x 4 with Fire Logo Print"
         },
         {
          "index": 77,
          "name": "Slope 65 2 x 2 x 2 with Bottom Tube with Red Inset Skirt Print"
         },
         {
          "index": 78,
          "name": "Cylinder Hemisphere 3 x 3 Ball Turret with Marbled Glow In Dark Pattern"
         },
         {
          "index": 79,
          "name": "Slope 45° 2 x 2 Inverted with Black/Blue Stripes Print"
         },
         {
          "index": 80,
          "name": "Hemisphere 11 x 11 - 4 Studs on Top with Coruscant Black / Gold / Orange Planet Print (75007)"
         },
         {
          "index": 81,
          "name": "Brick 1 x 2 x 2 with Inside Axle Holder with Red Cross Print"
         },
         {
          "index": 82,
          "name": "Slope Brick 45° 2 x  2 with SW Blue Segmented Fish Print"
         },
         {
          "index": 83,
          "name": "Brick 1 x 1 with Blue 'Ö' Print"
         },
         {
          "index": 84,
          "name": "Wedge 6 x 2 Left with Bricks and Hieroglyphs Print [7237]"
         },
         {
          "index": 85,
          "name": "Brick Curved 2 x 4 x 2 Double Curved Top with Monster Face Open Smile Print [2719]"
         },
         {
          "index": 86,
          "name": "Brick Round 2 x 2 x 2 Robot Body with White and Black Print [7915]"
         },
         {
          "index": 87,
          "name": "Wedge 6 x 2 Right with 3 Ovals Print [8356]"
         },
         {
          "index": 88,
          "name": "Wedge 4 x 4 x 2/3 Triple Curved with Fire Logo Badge and 3 White Chevrons Print"
         },
         {
          "index": 89,
          "name": "Brick 1 x 2 x 2 with Inside Axle Holder with Mindstorms NXT Print"
         },
         {
          "index": 90,
          "name": "Cone 4x4x2 with Axle Hole - Saturn V Capsule Hatch and Window Print"
         },
         {
          "index": 91,
          "name": "Brick 2 x 4 with Gold Holly and '11' Print"
         },
         {
          "index": 92,
          "name": "Brick 2 x 4 x 3 with Black Outlined White Stripes Print"
         },
         {
          "index": 93,
          "name": "Slope Curved 3 x 2 No Stud - Letter 'U' Print"
         },
         {
          "index": 94,
          "name": "Brick 1 x 6 without Bottom Tubes with White Knife & Fork, Cup & Saucer Print"
         },
         {
          "index": 95,
          "name": "Brick 1 x 6 without Bottom Tubes with Cross Side Supports with Blue 'Theater' Script Print"
         },
         {
          "index": 96,
          "name": "Slope Curved 4 x 1 No Studs with Cinderella Scrollwork Print"
         },
         {
          "index": 97,
          "name": "ROUND BRICK 1X1 NO.6"
         },
         {
          "index": 98,
          "name": "Wedge 6 x 2 Left with Police Blue Line Print [4669]"
         },
         {
          "index": 99,
          "name": "Wedge 6 x 2 Left with ARC-170 Print [7259]"
         },
         {
          "index": 100,
          "name": "Slope 65 2 x 2 x 2 with Bottom Tube with Rope Belt, Tatters, and Stitches Print"
         },
         {
          "index": 101,
          "name": "Slope 33° 3 x 4 with Pink Background White Flowers Print [4151]"
         },
         {
          "index": 102,
          "name": "Brick 1 x 8 with White GARAGE Print"
         },
         {
          "index": 103,
          "name": "Brick 1 x 2 with Black Triangle and 4 Stripes Leaning Left print"
         },
         {
          "index": 104,
          "name": "Brick 1 x 2 with Blue TV Screen Print [3827]"
         },
         {
          "index": 105,
          "name": "Slope 45° 2 x 4 with Gray Eyes on White Background Print"
         },
         {
          "index": 106,
          "name": "Brick 1 x 1 with Blue Danish 'Ø' Print"
         },
         {
          "index": 107,
          "name": "Brick 1 x 1 with Blue 'I' Print (Bold Font)"
         },
         {
          "index": 108,
          "name": "Brick 1 x 4 with White 'LL918' Print"
         },
         {
          "index": 109,
          "name": "Slope, Curved 2 x 2 Lip, No Studs with Snake Fangs Print (Snake) - Set 4577"
         },
         {
          "index": 110,
          "name": "Brick 1 x 2 with Fire Logo Badge and White Stripes Print"
         },
         {
          "index": 111,
          "name": "Brick 1 x 8 with Gold 723 Print"
         },
         {
          "index": 112,
          "name": "Brick 1 x 4 with Truck Headlights and Grille Print (4 Juniors)"
         },
         {
          "index": 113,
          "name": "Wedge 4 x 4 Taper with World Shipment and Red Outline Print [7214]"
         },
         {
          "index": 114,
          "name": "Slope 33° 3 x 2 with Ferrari Logo Print"
         },
         {
          "index": 115,
          "name": "Brick Round 2 x 2 x 1 2/3 Dome Top with Frowning Face and Angry Eyes Print"
         },
         {
          "index": 116,
          "name": "Brick 1 x 6 with Blue in White 'GENOVA' Print (Set 113)"
         },
         {
          "index": 117,
          "name": "Brick 1 x 2 with Shell Logo Small Print"
         },
         {
          "index": 118,
          "name": "Brick 1 x 6 with Blue in White 'HAMBURG' Print (Set 113)"
         },
         {
          "index": 119,
          "name": "Brick Round 2 x 2 x 2 with Robot Decoration - Bottom Axle Holder 'x' Shape '+' Orientation "
         },
         {
          "index": 120,
          "name": "Wedge 6 x 2 Left with Sleek Silver and Red Print [8357]"
         },
         {
          "index": 121,
          "name": "Brick Round 2 x 2 Dome Top with White and Black Print (R2-Q2)"
         },
         {
          "index": 122,
          "name": "Brick 1 x 2 x 2 with Inside Axleholder and Yellow Triangle Print train decoupler"
         },
         {
          "index": 123,
          "name": "Slope Curved 2 x 2 x 2/3 with Silver '7' in Circles over Black Stripes print"
         },
         {
          "index": 124,
          "name": "BRICK 2X2 NO. 38"
         },
         {
          "index": 125,
          "name": "Brick Round 2 x 2 Dome Top with Silver and Lime Print (R7-A7)"
         },
         {
          "index": 126,
          "name": "Brick, Modified 2 x 2 No Studs, Sloped with Flared Wings and Warrior Print (Set 4569)"
         },
         {
          "index": 127,
          "name": "Brick 1 x 8 with Gold '720' Print"
         },
         {
          "index": 128,
          "name": "Brick Round 2 x 2 Dome Top with Silver and Copper Print (R2-D5)"
         },
         {
          "index": 129,
          "name": "Wedge 6 x 4 Cutout without Stud Notches with Red Number 8 Print [6334]"
         },
         {
          "index": 130,
          "name": "Brick 1 x 8 with Red &quot;SNACK BAR&quot; Print , embossed print"
         },
         {
          "index": 131,
          "name": "Cone 4 x 4 x 2 with Axle Hole and Yellow Teeth Print"
         },
         {
          "index": 132,
          "name": "Brick, Modified 2 x 2 No Studs, Sloped with 3 Side Pistons Raised and '99', Black Stripe, Flame Print"
         },
         {
          "index": 133,
          "name": "Wedge 4 x 2 Triple Right with Alpha Team Arctic Speeder Print"
         },
         {
          "index": 134,
          "name": "Brick 1 x 2 - Small Black Eyes - Green Open Mouth Smile with Teeth"
         },
         {
          "index": 135,
          "name": "Brick, Round 2 x 2 x 2 Robot Body with Black Lines and Silver Print (Festive Astromech Droid)"
         },
         {
          "index": 136,
          "name": "Wedge 12 x 3 Left with Silver, Green, Orange Print (Set 7133)"
         },
         {
          "index": 137,
          "name": "Cone 2 x 2 x 2 with Completely Open Stud with Red Ornaments, Tree Boughs and Droid Instruments Print"
         },
         {
          "index": 138,
          "name": "Brick Round 2 x 2 x 2 Robot Body with Black Lines and Silver and Tan Print (Astromech Droid)"
         },
         {
          "index": 139,
          "name": "Brick 1 x 8 with Red 'FIRE-STATION' Bold Print"
         },
         {
          "index": 140,
          "name": "Slope 33 3 x 2 with SW White and Black Print"
         },
         {
          "index": 141,
          "name": "Brick 1 x 2 x 2 with Inside Axle Holder with White 'POLICE' Print"
         },
         {
          "index": 142,
          "name": "Brick Curved 2 x 4 x 2 Double Curved Top with Dog Face Print"
         },
         {
          "index": 143,
          "name": "Slope 33° 3 x 4 with Star of Life and Grill Print"
         },
         {
          "index": 144,
          "name": "Brick Round 1 x 1 Open Stud with Oxidising Agent Warning Sign Print [col11-10]"
         },
         {
          "index": 145,
          "name": "Brick, Modified 2 x 2 No Studs, Sloped with Angled Side Block Extensions and Spiky Print (Set 4571)"
         },
         {
          "index": 146,
          "name": "Brick 1 x 1 with Blue 'W' Print (Bold Font)"
         },
         {
          "index": 147,
          "name": "Brick 2 x 10 with Black 'MARCH' and 'APRIL' Print on opposite sides"
         },
         {
          "index": 148,
          "name": "ROOF TILE 2X2X2, DEG. 65, NO. 60"
         },
         {
          "index": 149,
          "name": "Brick 1 x 4 with '71', Chequered Flag, and Octan Logo Print"
         },
         {
          "index": 150,
          "name": "Brick Curved 2 x 2 x 2/3 Two Studs, Lip End with Silver/Black/Red Number 3 Right Half Print [8381]"
         },
         {
          "index": 151,
          "name": "Slope Inverted 45 2 x 2 with AT-ST Print, Fade Bar at Top"
         },
         {
          "index": 152,
          "name": "Slope 65° 2 x 2 x 2 with Bottom Tube with Green Eyes on White Background Print"
         },
         {
          "index": 153,
          "name": "Slope 65 2 x 2 x 2 with Bottom Tube with Alien Robe with Magenta Print"
         },
         {
          "index": 154,
          "name": "Slope 33 3 x 2 Smooth with McDonald's Red-Hair, Blue-Nose Bear Face Print"
         },
         {
          "index": 155,
          "name": "Brick 2 x 2 No Studs, Sloped with Flared Wings and Gear Print [4566]"
         },
         {
          "index": 156,
          "name": "Wedge 2 x 4 Triple with Red Scale Print"
         },
         {
          "index": 157,
          "name": "Brick Round 2 x 2 Truncated Cone with R1 Series Print "
         },
         {
          "index": 158,
          "name": "Brick 1 x 10 with Dark Purple 'July' and 'August' Print on Opposite Sides"
         },
         {
          "index": 159,
          "name": "Wedge 3 x 4 x 2/3 Triple Curved Smooth with Half Open Eyes, Flowers, and Headlights Print (Fillmore)"
         },
         {
          "index": 160,
          "name": "Slope Inverted 45 2 x 2 with Radar and Disk Slot Print"
         },
         {
          "index": 161,
          "name": "Brick 1 x 6 with Ferry Squares Light Blue in 1 Line At Top Print (Set 1554)"
         },
         {
          "index": 162,
          "name": "Slope Curved 5 x 8 x 2/3 with Batman Logo Print"
         },
         {
          "index": 163,
          "name": "Brick 2 x 4 with Three Black Squares Print"
         },
         {
          "index": 164,
          "name": "Slope Brick Curved 6 x 1 with Repeating Red and Black Scales Print"
         },
         {
          "index": 165,
          "name": "Slope 2 x 2 x 2 with Bottom Tube with Dark Azure and Silver Ice Queen Skirt Print"
         },
         {
          "index": 166,
          "name": "Brick 1 x 1 with Blue 'R' Print (Bold Font)"
         },
         {
          "index": 167,
          "name": "Slope 65° 2 x 2 x 2 with Bottom Tube with Green Eyes on White Background and Smile Print 1"
         },
         {
          "index": 168,
          "name": "Brick 2 x 4 with Gold Holly and '15' Print"
         },
         {
          "index": 169,
          "name": "Slope, Curved 2 x 2 Lip, No Studs with '84', Orange/Red/Silver Stripes Print"
         },
         {
          "index": 170,
          "name": "Slope Curved 4 x 1 Double No Studs with Mouth and '51237' License Plate Print (Fillmore)"
         },
         {
          "index": 171,
          "name": "Wedge 6 x 2 Left with Red/Yellow/White Flame and 99 Print [8382]"
         },
         {
          "index": 172,
          "name": "Brick 2 x 4 with Gold Holly and '8' Print"
         },
         {
          "index": 173,
          "name": "Brick Modified 16 x 16 x 2/3 with 1 x 4 Indentations and 1 x 4 Plate with Snow and Sparkles Frozen Playground with Footprints and Pawprints, and Dark Pink Rug print"
         },
         {
          "index": 174,
          "name": "Brick 1 x 8 without Bottom Tubes with Cross Side Supports with Black 'GARAGE' Serif Print"
         },
         {
          "index": 175,
          "name": "Brick Curved 2 x 4 x 2/3 with Police Legend and Badge Print"
         },
         {
          "index": 176,
          "name": "Brick 1 x 2 x 2 with Center Pin"
         },
         {
          "index": 177,
          "name": "BRICK 1X1 NO. 12"
         },
         {
          "index": 178,
          "name": "Brick, Modified 2 x 2 No Studs, Sloped with Flared Wings and Snake Print (Set 4577)"
         },
         {
          "index": 179,
          "name": "Slope Curved 5 x 8 x 2/3 with Stars and Blue Lines Print"
         },
         {
          "index": 180,
          "name": "Slope 33 3 x 2 Smooth with McDonald's Hamburglar Print"
         },
         {
          "index": 181,
          "name": "Wedge 6 x 2 Right with Bricks and Hieroglyphs Print [7327]"
         },
         {
          "index": 182,
          "name": "Slope 33 3 x 2 Smooth with McDonald's Ronald McDonald Print"
         },
         {
          "index": 183,
          "name": "Brick 1 x 10 with Dark Purple 'September' and 'October' Print on Opposite Sides"
         },
         {
          "index": 184,
          "name": "Brick 1 x 4 with Black Stripe and 8 Blue Squares Print"
         },
         {
          "index": 185,
          "name": "Brick 1 x 6 x 5 with Stone Wall Print"
         },
         {
          "index": 186,
          "name": "Brick 2 x 2 No Studs, Sloped with 3 Side Pistons Raised and '30', Silver Stars Print [4591]"
         },
         {
          "index": 187,
          "name": "Cylinder  2 x  2 x  2 Robot Body with Green / Gray R2 Print"
         },
         {
          "index": 188,
          "name": "Slope 65 2 x 2 x 2 with Bottom Tube with Professor McGonagall Robe Print"
         },
         {
          "index": 189,
          "name": "Slope 45 2 x 2 with Dinosaur Scales Print"
         },
         {
          "index": 190,
          "name": "Brick 1 x 8 with Red Bricks, Amazon Logo, Vines Print"
         },
         {
          "index": 191,
          "name": "Slope, Curved 2 x 2 Lip, No Studs with Face and Claws Print (Ghost) - Set 4578"
         },
         {
          "index": 192,
          "name": "Slope 33 3 x 2 Smooth with McDonald's Girl Pigtails Print"
         },
         {
          "index": 193,
          "name": "Brick 1 x 2 with Purple Snake Print"
         },
         {
          "index": 194,
          "name": "Brick 1 x 6 without Bottom Tubes with Cross Side Supports with Blue 'AUTO' and 2 Cars Print"
         },
         {
          "index": 195,
          "name": "Slope 33° 3 x 4 with Surveillance Computer Panel Print"
         },
         {
          "index": 196,
          "name": "Brick 1 x 1 with Blue 'S' Print (Bold Font)"
         },
         {
          "index": 197,
          "name": "Brick 1 x 2 x 2 with Stylised Yellow Submarine Control Panel Print"
         },
         {
          "index": 198,
          "name": "Slope 45 4 x 4 with Octan Logo and Red & Green Stripe Print"
         },
         {
          "index": 199,
          "name": "Slope 33° 3 x 4 with Black '1' on Red Striped Triangle Print"
         },
         {
          "index": 200,
          "name": "Brick Round 2 x 2 Dome Top with Tan Print (Astromech Droid) "
         },
         {
          "index": 201,
          "name": "Slope Curved 6 x 1 with Flame Print"
         },
         {
          "index": 202,
          "name": "Wedge  4 x  4 Triple with Red Chevrons Print"
         },
         {
          "index": 203,
          "name": "Brick 1 x 1 with Blue 'O' Print (Bold Font)"
         },
         {
          "index": 204,
          "name": "Wedge 4 x 4 No Top Studs with Bricks and Hieroglyphs Print (Scarab Abdomen)"
         },
         {
          "index": 205,
          "name": "Brick 1 x 1 with Blue 'E' Print (Bold Font)"
         },
         {
          "index": 206,
          "name": "Cylinder Half 2 x 4 x 2 with 1 x 2 Cutout with Red Eyes (Ares Face)"
         },
         {
          "index": 207,
          "name": "Brick, Round Corner 12 x 12 with 3 Support Pegs"
         },
         {
          "index": 208,
          "name": "Brick 1 x 2 x 2 with Inside Stud Holder with Black and Gray Jacket Pattern"
         },
         {
          "index": 209,
          "name": "Brick 2 x 4 with Gold Holly and '24' Print"
         },
         {
          "index": 210,
          "name": "Brick 2 x 2 with Big Ben Clock print"
         },
         {
          "index": 211,
          "name": "Slope 65 2 x 2 x 2 with Bottom Tube with Light Gray Eyes and Angry Mouth with Teeth Print"
         },
         {
          "index": 212,
          "name": "Wedge 12 x 3 Left with Bricks and Hieroglyphs Print"
         },
         {
          "index": 213,
          "name": "Slope 45 2 x 2 with Controls, Buttons, and Navigation Display Print"
         },
         {
          "index": 214,
          "name": "Brick, Modified 2 x 2 No Studs, Sloped with Angled Side Block Extensions and Surfer Print (Set 4567)"
         },
         {
          "index": 215,
          "name": "Slope Curved 2 x 2 Lip, No Studs with '29', Green/Black Stripes Print [4594]"
         },
         {
          "index": 216,
          "name": "Brick Modified 16 x 16 x 2/3 with 1 x 4 Indentations and 1 x 4 Plate with Cracks and Bursting LavaPrint"
         },
         {
          "index": 217,
          "name": "Wedge 8 x 3 x 2 Open Left with Red and Black Stripes and Green Scales Print"
         },
         {
          "index": 218,
          "name": "Brick 1 x 6 with White 'LEGO' Text Print"
         },
         {
          "index": 219,
          "name": "Wedge 6 x 2 Right with Sleek Silver and Red Print"
         },
         {
          "index": 220,
          "name": "Brick 1 x 3 with Cat Face Wide Eyes Puzzled (Unikitty) Print"
         },
         {
          "index": 221,
          "name": "Brick, Modified 2 x 2 No Studs, Sloped with Angled Side Block Extensions and Pulse Print (Set 4575)"
         },
         {
          "index": 222,
          "name": "Brick 1 x 8 with Red 'SHELL' Text and 2 Red Shell Logos Print"
         },
         {
          "index": 223,
          "name": "Brick 1 x 2 with Silver Snake on Green Shield Print"
         },
         {
          "index": 224,
          "name": "Brick 1 x 1 with Blue 'U' Print (Bold Font)"
         },
         {
          "index": 225,
          "name": "Slope Curved 2 x 2 x 2/3 with Wolf Legend Beast Eyes and Crest Print"
         },
         {
          "index": 226,
          "name": "Brick Round 2 x 2 x 2 Robot Body with Metallic Gold Print (R8-B7)"
         },
         {
          "index": 227,
          "name": "Brick 1 x 6 with Red &quot;KIOSK&quot; Bold Print"
         },
         {
          "index": 228,
          "name": "Technic, Brick 1 x 2 - 1 x 2 Angled with Bumper Holder [Open Front]"
         },
         {
          "index": 229,
          "name": "Brick, Round 1 x 1 Open Stud with SW Death Star Print"
         },
         {
          "index": 230,
          "name": "ROOF TILE 2X2X2/65 DEG. &quot;NO. 52&quot;"
         },
         {
          "index": 231,
          "name": "Slope 65° 2 x 2 x 2 with Bottom Tube with Evening Dress with Black and Silver Spots Print"
         },
         {
          "index": 232,
          "name": "Wedge 12 x 3 Left with Gray Panels & Lime/Med Orange/Dk Red Markings Print"
         },
         {
          "index": 233,
          "name": "Brick 1 x 6 with Yellow 'TURBO' on Blue Background and Black Spots Print"
         },
         {
          "index": 234,
          "name": "Slope, Curved 2 x 2 Lip, No Studs with Gauges and Police Blue Line Print"
         },
         {
          "index": 235,
          "name": "Wedge 8 x 3 x 2 Open Right with Sand Green Square Print"
         },
         {
          "index": 236,
          "name": "Wedge 12 x 3 Left with Black/Orange Checkered/Striped Race Print"
         },
         {
          "index": 237,
          "name": "Wedge 6 x 2 Left with Purple Wing Print [1374]"
         },
         {
          "index": 238,
          "name": "Hemisphere 11 x 11 - 4 Studs on Top with Alderaan Blue / White / Dark Green Planet Print [75011]"
         },
         {
          "index": 239,
          "name": "Brick Round 2 x 2 Dome Top with Pearl Dark Gray Print (R4-P44)"
         },
         {
          "index": 240,
          "name": "Slope 45° 2 x 2 with Fire Logo Print"
         },
         {
          "index": 241,
          "name": "Brick 1 x 1 with Blue 'Ö' Print (Bold Font)"
         },
         {
          "index": 242,
          "name": "Slope 18 4 x 2 with Lime Green Semicircle Print"
         },
         {
          "index": 243,
          "name": "Brick 2 x 4 with Gold Holly and '6' Print"
         },
         {
          "index": 244,
          "name": "Slope 18° 4 x 2 with Ferrari Headlight Right Print"
         },
         {
          "index": 245,
          "name": "Brick 1 x 1 with Blue 'H' Print (Bold Font)"
         },
         {
          "index": 246,
          "name": "Slope Curved 2 x 2 x 2/3 with Fancy Scroll Print"
         },
         {
          "index": 247,
          "name": "Brick Arch 1 x 3 with Classic Space Logo Print (Astro Kitty)"
         },
         {
          "index": 248,
          "name": "Slope 45° 2 x 2 with Right Green Inverse 1/4 Disc Print"
         },
         {
          "index": 249,
          "name": "Wedge 6 x 2 Left with Shark Skeleton Print [6735]"
         },
         {
          "index": 250,
          "name": "Slope 65 2 x 2 x 2 with Bottom Tube with Tan Apron with Pocket Print"
         },
         {
          "index": 251,
          "name": "Slope Curved 2 x 4 x 2/3 No Studs with Bottom Tubes with Flames and Gold Lion Head Print"
         },
         {
          "index": 252,
          "name": "Brick 2 x 4 with Gold Holly and '13' Print"
         },
         {
          "index": 253,
          "name": "Brick 1 x 6 without Centre Studs with Yellow/Blue HOTEL Print"
         },
         {
          "index": 254,
          "name": "Slope Brick 45° 2 x 2 with White Number 1 Print"
         },
         {
          "index": 255,
          "name": "Brick Round 2 x 2 Dome Top with Gray Lines and Coal Pieces Print (Snowman R2-D2)"
         },
         {
          "index": 256,
          "name": "Brick Round 2 x 2 x 2 Robot Body with Black Lines and Green Print (R2 Unit)"
         },
         {
          "index": 257,
          "name": "Slope 65 2 x 2 x 2 with Bottom Tube with Gold Skeleton Hips and Ribs and Magenta and Dark Purple Swirls Print"
         },
         {
          "index": 258,
          "name": "Slope 45° 2 x 2 with Control Panel and Screen with Minifig Scan Print"
         },
         {
          "index": 259,
          "name": "Slope 65° 2 x 2 x 2 with Bottom Tube with Gold Panel with Blue Jewel and Gold Fringe Print [col05-14]"
         },
         {
          "index": 260,
          "name": "RAMP 4X8X6,4 W. WING rock cracked 3 lava hole"
         },
         {
          "index": 261,
          "name": "Slope Curved 5 x 8 x 2/3 with Wood Panel Drawbridge Print"
         },
         {
          "index": 262,
          "name": "Slope Brick 18  4 x  2 with Imperial Shuttle Cockpit Print"
         },
         {
          "index": 263,
          "name": "Brick 2 x 4 with Gold Holly and '10' Print"
         },
         {
          "index": 264,
          "name": "Wedge 4 x 3 Cut Back with Cutout, 2 Studs with Black and Silver Print"
         },
         {
          "index": 265,
          "name": "Slope 45° 2 x 2 with Alpha Team Arctic Print"
         },
         {
          "index": 266,
          "name": "Slope, Curved 8 x 6 x 2 Double with Chrome Silver Sides and Octan Print"
         },
         {
          "index": 267,
          "name": "Brick Curved 2 x 4 x 2 Double Curved Top with Smiling Monster Face with Tongue Print"
         },
         {
          "index": 268,
          "name": "Brick 1 x 4 with Danone Logo Print - Set 1591"
         },
         {
          "index": 269,
          "name": "Cone Half 8 x 4 x 6 with Dark Red Stripe Tantive Bridge Bottom Print"
         },
         {
          "index": 270,
          "name": "Brick 1 x 4 with Black 'QH 44' Print"
         },
         {
          "index": 271,
          "name": "Brick 1 x 6 with Red Number 1 and Four Stars and Yellow Border Print"
         },
         {
          "index": 272,
          "name": "Brick 1 x 6 with Red 3 and Black Stripes Print"
         },
         {
          "index": 273,
          "name": "Brick Round 2 x 2 Dome Top with Dark Green Droid Print"
         },
         {
          "index": 274,
          "name": "ROOF TILE 2X2X2, DEG. 65, NO. 57"
         },
         {
          "index": 275,
          "name": "Brick 1 x 6 with Recycling Phrases and Stars Print"
         },
         {
          "index": 276,
          "name": "Brick 2 x 4 with Gold Holly and '20' Print"
         },
         {
          "index": 277,
          "name": "Brick 1 x 8 with Black 'GARAGE' Sans-Serif Thick Print, Elaborate 'G'"
         },
         {
          "index": 278,
          "name": "Minifig Head with Gold Death Star Print [Blocked Open Stud]"
         },
         {
          "index": 279,
          "name": "Wedge 4 x 4 with TV Logo Print News, Crisis, 6553, Television, Helicopter, Cameraman, Reporter, Van"
         },
         {
          "index": 280,
          "name": "Wedge 3 x 4 x 2/3 Triple Curved Smooth with Armor Plates and Grille with Vent Print"
         },
         {
          "index": 281,
          "name": "Brick Round 2 x 2 Dome Top with Reddish Brown Droid Print [R7-D4]"
         },
         {
          "index": 282,
          "name": "Brick 2 x 4 with Smiling Face with Fangs Print [2759]"
         },
         {
          "index": 283,
          "name": "Cylinder Hemisphere 4 x 4 with Black AT-DP Print"
         },
         {
          "index": 284,
          "name": "Wedge 10 x 3 Left with Red Stripe Print"
         },
         {
          "index": 285,
          "name": "Brick 1 x 4 with Black Stripes and Tow Truck Print"
         },
         {
          "index": 286,
          "name": "Brick 2 x 2 with Eye without White Print on Two Sides, Centered"
         },
         {
          "index": 287,
          "name": "Brick 2 x 4 x 3 with Fire Print"
         },
         {
          "index": 288,
          "name": "Brick 1 x 2 x 5 with Scorpion and Dark Red Print"
         },
         {
          "index": 289,
          "name": "Brick 1 x 2 with Radio and Microphone Print"
         },
         {
          "index": 290,
          "name": "Slope 65° 2 x 2 x 2 with Bottom Tube with Brown Eye in White Rectangle Print (Sarge)"
         },
         {
          "index": 291,
          "name": "Slope Curved 2 x 4 with 2 Gold Stripes Print [No Bottom Tubes]"
         },
         {
          "index": 292,
          "name": "Slope Brick 18  4 x  2 with Orange and Grey Rectangles Print"
         },
         {
          "index": 293,
          "name": "Wedge 4 x 4 Triple without Stud Notches with Shell Logo Print"
         },
         {
          "index": 294,
          "name": "Slope, Curved 8 x 6 x 2 Inverted Double with Chrome Silver Sides Print"
         },
         {
          "index": 295,
          "name": "Brick Round 2 x 2 Dome Top with Black Spots on Yellow Print (Buzz Droid) [Recessed Stud]"
         },
         {
          "index": 296,
          "name": "Wedge 4 x 4 No Top Studs with Red Scale Print"
         },
         {
          "index": 297,
          "name": "Slope 65° 2 x 2 x 2 with Bottom Tube with Layered Dress with Metallic Silver Print"
         },
         {
          "index": 298,
          "name": "Brick 1 x 8 without Bottom Tubes with Cross Side Supports with Red 'SLAGTER' and Red Pig Face Print"
         },
         {
          "index": 299,
          "name": "Slope 65° 2 x 2 x 2 with Bottom Tube with Lavender Embroidered Skirt and Belt Print"
         },
         {
          "index": 300,
          "name": "Brick Curved 2 x 2 x 2/3 Two Studs, Curved Slope End with 6 and Black Tyre Tread Print [4582]"
         },
         {
          "index": 301,
          "name": "Brick 1 x 2 with Black Triangle and 4 Stripes Leaning Right"
         },
         {
          "index": 302,
          "name": "Wedge 4 x 4 Pyramid Centre with Green Scale Print"
         },
         {
          "index": 303,
          "name": "Wedge 4 x 4 Triple with SW Mini Slave 1 Print"
         },
         {
          "index": 304,
          "name": "Slope 65 2 x 2 x 2 with Bottom Tube with Brown Eyes on White Background and Mouth Turned Down Print"
         },
         {
          "index": 305,
          "name": "Brick, Modified 2 x 4 x 2 Double Curved Top with Necktie Red Print"
         },
         {
          "index": 306,
          "name": "ROOF TILE 1X2X2/3 with Lightning Bolt Print"
         },
         {
          "index": 307,
          "name": "Slope 10 6 x 8 with Shingled Roof Print"
         },
         {
          "index": 308,
          "name": "Slope 45° 2 x 2 with Red/Yellow '6' Print"
         },
         {
          "index": 309,
          "name": "Slope 18 4 x 2 with SW Aldar Beedo Symbol Print"
         },
         {
          "index": 310,
          "name": "Slope Curved 6 x 1 with Silver and Black Print Left"
         },
         {
          "index": 311,
          "name": "Brick 1 x 2 with Switch, Lamps, and Danger Stripe Print [1380]"
         },
         {
          "index": 312,
          "name": "Slope 45° 2 x 4 with Red and Gold Triangles Left Print"
         },
         {
          "index": 313,
          "name": "Brick 1 x 6 with Black 'BÃ„CKER' Print"
         },
         {
          "index": 314,
          "name": "Brick 2 x 4 x 3 with Wanted Posters Print"
         },
         {
          "index": 315,
          "name": "Slope 33° 3 x 4 with White Stripes Print"
         },
         {
          "index": 316,
          "name": "Cylinder Half 2 x 4 x 2 with 1 x 2 Cutout - Giant-Man Face with Red and White Goggle Lenses print"
         },
         {
          "index": 317,
          "name": "Slope 65° 2 x 2 x 2 with Bottom Tube with Black and Dark Green Robe Print"
         },
         {
          "index": 318,
          "name": "Brick 2 x 2 x 3 with shower print"
         },
         {
          "index": 319,
          "name": "Wedge 6 x 2 Left with Silver Windscreen Print [10026]"
         },
         {
          "index": 320,
          "name": "Slope Curved 3 x 2 No Studs - Letter \"A\" Print"
         },
         {
          "index": 321,
          "name": "Brick Round 2 x 2 x 1 2/3 Dome Top with Sentinel Face Print"
         },
         {
          "index": 322,
          "name": "Brick 2 x 6 x 3 with Star Badge and Black 'POLICE' Print"
         },
         {
          "index": 323,
          "name": "Slope 65 2 x 2 x 2 with Bottom Tube with Gold and Medium Blue Trimmed Skirt Print"
         },
         {
          "index": 324,
          "name": "Brick 2 x 3 with White 'TAXI' Sans-Serif Print"
         },
         {
          "index": 325,
          "name": "Brick Round 1 x 1 Open Stud with SW IG-88 Head Print"
         },
         {
          "index": 326,
          "name": "Slope 45° 2 x 2 with World City Gold Police Badge and Six Knobs Print"
         },
         {
          "index": 327,
          "name": "Wedge 12 x 3 Right with Blue Shark and Silver Wave Print"
         },
         {
          "index": 328,
          "name": "Cone 2 x 2 x 2 with Completely Open Stud with B-wing Cockpit Print"
         },
         {
          "index": 329,
          "name": "Slope, Curved 2 x 2 Lip, No Studs with Black Dots and Scoop on Red Print"
         },
         {
          "index": 330,
          "name": "Slope Brick 33  3 x  4 with Green Stripes Print"
         },
         {
          "index": 331,
          "name": "Brick 1 x 1 with Blue '=' Print (Bold Font)"
         },
         {
          "index": 332,
          "name": "Brick 1 x 4 with Horse Running and Palm Tree Print"
         },
         {
          "index": 333,
          "name": "Brick 1 x 3 with Biznis Kitty Face with Glasses Print"
         },
         {
          "index": 334,
          "name": "Wedge 4 x 4 x 2/3 Triple Curved with Spider-Man Logo and Webbing Print"
         },
         {
          "index": 335,
          "name": "Brick 1 x 1 with Red 'Rice' [Chinese] Print"
         },
         {
          "index": 336,
          "name": "Wedge 4 x 4 Triple with Stud Notches with Sith Nightspeeder Print 1"
         },
         {
          "index": 337,
          "name": "Brick 1 x 2 x 2 with Inside Axle Holder with Dog Biscuit Box Print"
         },
         {
          "index": 338,
          "name": "Brick, Modified 2 x 4 x 2 Double Curved Top with Fire Hose on Reel Print"
         },
         {
          "index": 339,
          "name": "Brick 1 x 4 with Café Print"
         },
         {
          "index": 340,
          "name": "Wedge 4 x 4 No Top Studs with Green Lantern Logo Print"
         },
         {
          "index": 341,
          "name": "Wedge 4 x 4 Pyramid Center with SW Clone Walker Print"
         },
         {
          "index": 342,
          "name": "Wedge 6 x 2 Left with Reptile Skin, Red Eye, White Teeth Print [7780]"
         },
         {
          "index": 343,
          "name": "Wedge 2 x 4 Triple with Eyes and Dark Bluish Gray Panels Print (Shu Todoroki)"
         },
         {
          "index": 344,
          "name": "Wedge 12 x 3 Right with White Panels and Black Line Print [9497]"
         },
         {
          "index": 345,
          "name": "Slope 33 3 x 2 Smooth with McDonald's Yellow Monster Print"
         },
         {
          "index": 346,
          "name": "Wedge 4 x 4 No Top Studs with Bricks, Blue Lines and 2 Eyes Print (Cobra Head)"
         },
         {
          "index": 347,
          "name": "Brick 2 x 3 with White 'TAXI' Serif Print"
         },
         {
          "index": 348,
          "name": "Hemisphere 11 x 11 - 4 Studs on Top with Marbled Dark Green Yavin 4 Print"
         },
         {
          "index": 349,
          "name": "Slope 45° 2 x 2 with Wedding Dress Print"
         },
         {
          "index": 350,
          "name": "Brick 1 x 6 x 5 with Hieroglyphs and Bird Print"
         },
         {
          "index": 351,
          "name": "Wedge 4 x 4 Triple with Stud Notches with Sith Nightspeeder Print 2"
         },
         {
          "index": 352,
          "name": "Brick 1 x 2 with Pink and Magenta Rectangles Print"
         },
         {
          "index": 353,
          "name": "Brick 2 x 10 with Black 'MAY' and 'JUNE' Print on opposite sides"
         },
         {
          "index": 354,
          "name": "Brick 2 x 8 with Fire Logo Badge and White Diagonal Stripes Print"
         },
         {
          "index": 355,
          "name": "Cockpit Space Nose with Aquazone Aquashark Blue Shark with Red X Print [6115]"
         },
         {
          "index": 356,
          "name": "Brick 1 x 1 with Blue Danish 'Ø' Print (Bold Font)"
         },
         {
          "index": 357,
          "name": "Brick 1 x 6 with Blue Wurstchen Script Print ('WÃ¼rstchen')"
         },
         {
          "index": 358,
          "name": "Slope, Curved 2 x 2 Lip, No Studs with Space Shuttle Print (Set 7467)"
         },
         {
          "index": 359,
          "name": "Wedge 4 x 4 No Top Studs with Sentinel Yellow, Orange and Red Triangle and Black Stripe Trim Print"
         },
         {
          "index": 360,
          "name": "Brick Round 2 x 2 x 2 Robot Body with Gray Lines and Dark Green Print (R4-P44)"
         },
         {
          "index": 361,
          "name": "Wedge 2 x 4 Triple with '9' and Red / Silver Print"
         },
         {
          "index": 362,
          "name": "Brick 1 x 1 with Blue 'B' Print (Bold Font)"
         },
         {
          "index": 363,
          "name": "Brick 1 x 3 with Cat Face Mad Print (Angry Kitty)"
         },
         {
          "index": 364,
          "name": "Brick 1 x 4 with Pumpkin Jack O' Lantern Mouth Print"
         },
         {
          "index": 365,
          "name": "Brick 2 x 10 with Black 'JULY' and 'AUGUST' Print on opposite sides"
         },
         {
          "index": 366,
          "name": "Brick 1 x 1 with Blue 'K' Print (Bold Font)"
         },
         {
          "index": 367,
          "name": "Brick 1 x 4 with Bottom Tubes, with 1 Lowered Cross Support"
         },
         {
          "index": 368,
          "name": "Brick Round 2 x 2 x 2 Dome Top with Cross Cut Slots"
         },
         {
          "index": 369,
          "name": "Brick 1 x 1 with Blue 'Y' Print (Bold Font)"
         },
         {
          "index": 370,
          "name": "Brick 2 x 10 with Black 'JANUARY' and 'FEBRUARY' Print on opposite sides"
         },
         {
          "index": 371,
          "name": "Brick 1 x 6 with Dark Red Bottom Stripe Slope at Right End Print - Set 611-2"
         },
         {
          "index": 372,
          "name": "Wedge 4 x 4 No Top Studs with Black Window, Yellow 18 Print"
         },
         {
          "index": 373,
          "name": "Slope 65 2 x 2 x 2 with Bottom Tube with SW Neimoidian Viceroy Robe Print"
         },
         {
          "index": 374,
          "name": "Slope 45° 4 x 4 with Yellow Stripe Print [6329]"
         },
         {
          "index": 375,
          "name": "Slope 45° 2 x 2 with Palm Tree Print"
         },
         {
          "index": 376,
          "name": "Wedge 4 x 4 Triple with Stud Notches with Set 7260 Left Print"
         },
         {
          "index": 377,
          "name": "Slope Curved 6 x 1 with Police Blue Line and Headlight Print Right"
         },
         {
          "index": 378,
          "name": "Brick Round 2 x 2 x 2 Robot Body with Black Lines and White Print (R3-D5)"
         },
         {
          "index": 379,
          "name": "Slope 10 6 x 8 with Rusting Sheet-Metal Roof Print"
         },
         {
          "index": 380,
          "name": "Wedge 6 x 2 Right with ARC-170 Print [7259]"
         },
         {
          "index": 381,
          "name": "Hemisphere 11 x 11 - 4 Studs on Top with Kamino Black / Blue / White Planet Print [75006]"
         },
         {
          "index": 382,
          "name": "Brick, Modified 2 x 2 No Studs, Sloped with 3 Side Pistons Raised and Scratch Print (Set 4572)"
         },
         {
          "index": 383,
          "name": "Brick 1 x 6 without Bottom Tubes with Cross Side Supports with Red 'POSTERIJEN' Bold Print"
         },
         {
          "index": 384,
          "name": "Brick 1 x 1 with Blue Danish 'Æ' Print (Bold Font)"
         },
         {
          "index": 385,
          "name": "Brick 1 x 1 with Blue '9' Print (Bold Font)"
         },
         {
          "index": 386,
          "name": "BRICK 1X3, Buckle print"
         },
         {
          "index": 387,
          "name": "Brick 1 x 1 with Blue '7' Print (Bold Font)"
         },
         {
          "index": 388,
          "name": "Brick 1 x 6 with Ferry Squares Light Blue and Black in 2 Lines Print (Set 1554)"
         },
         {
          "index": 389,
          "name": "Brick 2 x 4 x 2 No Studs, Triple Curved Top with Ladybug Antenna Print"
         },
         {
          "index": 390,
          "name": "BRICK 1X4, Batman Logo Print"
         },
         {
          "index": 391,
          "name": "Slope 65 2 x 2 x 2 with Bottom Tube with Robe, Gold Star Pendant and Tassels Print"
         },
         {
          "index": 392,
          "name": "Brick 2 x 4 with Steering and Red Spoked Wheels"
         },
         {
          "index": 393,
          "name": "Slope 65° 2 x 2 x 2 with Bottom Tube with Three Black Flowers Kimono Print"
         },
         {
          "index": 394,
          "name": "Brick 1 x 2 x 2 with Inside Stud Holder with Robe and Tassels Print"
         },
         {
          "index": 395,
          "name": "BRICK 1X3, Finn print"
         },
         {
          "index": 396,
          "name": "Arch 1 x 3 with Biznis Kitty Body Print"
         },
         {
          "index": 397,
          "name": "Scala Roof End Slope 22 x 2 x 12 1/3"
         },
         {
          "index": 398,
          "name": "Slope 65 2 x 2 x 2 with Bottom Tube with Robe, Dark Red Armor and Gold Belt, Chains and Pendants Print"
         },
         {
          "index": 399,
          "name": "Brick Round 2 x 2 Truncated Cone with SW R5-J2 Print"
         },
         {
          "index": 400,
          "name": "Wedge 6 x 2 Left with Racer Hot Scorcher 4 Print [4584]"
         },
         {
          "index": 401,
          "name": "Brick 1 x 4 with Joker Suit print"
         },
         {
          "index": 402,
          "name": "Brick 2 x 4 x 2 Double Curved Top with Face and Horns Print"
         },
         {
          "index": 403,
          "name": "Wedge 6 x 4 Cutout without Stud Notches with Red Number 3 Print"
         },
         {
          "index": 404,
          "name": "Brick 1 x 6 with Dark Red Bottom Stripe Inverted Slope at Left End Print - Set 611-2"
         },
         {
          "index": 405,
          "name": "Brick 1 x 4 with 4WD Text and Blue Stripes Print"
         },
         {
          "index": 406,
          "name": "Slope 65° 2 x 2 x 2 with Bottom Tube with Robe with Moons and Stars and Rope Belt Print"
         },
         {
          "index": 407,
          "name": "BRICK 1X4, NO. 14"
         },
         {
          "index": 408,
          "name": "Brick 1 x 8 without Bottom Tubes with Cross Side Supports with Red 'BRANDSTATION' Print"
         },
         {
          "index": 409,
          "name": "Minitalia Slope 33 3 x 2 with Bottom Tubes"
         },
         {
          "index": 410,
          "name": "Brick, Modified 2 x 2 No Studs, Sloped with 3 Side Pistons Raised and Rip Print (Set 4574)"
         },
         {
          "index": 411,
          "name": "Wedge 6 x 2 Left with Hose, Grill, and Hatch Print [4791]"
         },
         {
          "index": 412,
          "name": "Brick 1 x 1 with Blue 'X' Print (Bold Font)"
         },
         {
          "index": 413,
          "name": "Slope 65 2 x 2 x 2 with Bottom Tube with Flamenco Ruffles and Black Dots Print"
         },
         {
          "index": 414,
          "name": "Brick 2 x 6 x 3 with Monster Face Print"
         },
         {
          "index": 415,
          "name": "Hemisphere 11 x 11 - 4 Studs on Top with Endor Blue / Green / Olive / White Planet Print [9679]"
         },
         {
          "index": 416,
          "name": "Wedge 6 x 2 Right with Submarine Print [4793]"
         },
         {
          "index": 417,
          "name": "Hemisphere 11 x 11 - 4 Studs on Top with Marbled Tan Bespin Print [9678]"
         },
         {
          "index": 418,
          "name": "Brick 1 x 1 with Eye Squinting Black and White Plain Print"
         },
         {
          "index": 419,
          "name": "Brick 1 x 1 with Blue 'T' Print (Bold Font)"
         },
         {
          "index": 420,
          "name": "Brick, Modified 2 x 2 x 2/3 Two Studs, Lip End with 'M', Black/Red/Green Print"
         },
         {
          "index": 421,
          "name": "Wedge 4 x 4 Triple with Stud Notches with Set 7260 Right Print"
         },
         {
          "index": 422,
          "name": "Eye of Agamotto"
         },
         {
          "index": 423,
          "name": "Slope 65° 2 x 2 x 2 with Bottom Tube with Robe with Ornate Silver Fabric, Belt and Tassels Print [10237]"
         },
         {
          "index": 424,
          "name": "Brick 1 x 3 with UniKitty Face Print"
         },
         {
          "index": 425,
          "name": "Wedge 6 x 2 Right with Hose, Grille and Hatch Print [4791]"
         },
         {
          "index": 426,
          "name": "Brick 1 x 6 with Blue 'HOTEL' Thick Print"
         },
         {
          "index": 427,
          "name": "Brick 1 x 4 with HE 124 Print text,Black, he124, embossed"
         },
         {
          "index": 428,
          "name": "Wedge 4 x 4 Fractured Polygon Top with Dark Bluish Gray Facets Print (Rock Monster Giant)"
         },
         {
          "index": 429,
          "name": "Brick 1 x 10 with Dark Purple 'March' and 'April' on Opposite Sides Print"
         },
         {
          "index": 430,
          "name": "Brick 1 x 8 with 'Hot Car' Print"
         },
         {
          "index": 431,
          "name": "Brick, Modified 2 x 2 No Studs, Sloped with Flared Wings and Loopin Print (Set 4568)"
         },
         {
          "index": 432,
          "name": "Brick 2 x 2 with Gray Squares on 2 Sides Print"
         },
         {
          "index": 433,
          "name": "Cylinder Hemisphere 2 x 2 with Cutout with Armillary Sphere Left Print"
         },
         {
          "index": 434,
          "name": "Brick 1 x 4 with 4 Black Oval Windows Print"
         },
         {
          "index": 435,
          "name": "Slope Brick 65  2 x  2 x  2 with Lamps and Dials Print"
         },
         {
          "index": 436,
          "name": "Slope 45° 2 x 4 with Fish and Terrain Map Print"
         },
         {
          "index": 437,
          "name": "Brick 1 x 1 with Blue 'N' Print (Bold Font)"
         },
         {
          "index": 438,
          "name": "Slope 45° 2 x 2 with White Number 74 Print"
         },
         {
          "index": 439,
          "name": "Brick 1 x 1 with Blue 'G' Print (Bold Font)"
         },
         {
          "index": 440,
          "name": "Slope 65° 2 x 2 x 2 with Bottom Tube with Black Dress Lines, Brown Hemline and Belt Print"
         },
         {
          "index": 441,
          "name": "Brick 1 x 2 Vet Paw Print Logo and Dog with Food Bowl print"
         },
         {
          "index": 442,
          "name": "Brick 1 x 2 x 2 with Stylised Yellow Submarine Screen Print"
         },
         {
          "index": 443,
          "name": "Brick 1 x 4 with Black 'L 18 TON' and 'T 16 TON' Print"
         },
         {
          "index": 444,
          "name": "Cylinder Half 2 x 4 x 4 with Window and Flower Box Pattern"
         },
         {
          "index": 445,
          "name": "Slope Curved 2 x 2 Lip, No Studs with Asian Characters and Number 7 Print"
         },
         {
          "index": 446,
          "name": "Brick 1 x 6 with TURBO and Stars Print black stripes"
         },
         {
          "index": 447,
          "name": "Wedge 6 x 2 Right with Racer Hot Scorcher 4 Print [4584]"
         },
         {
          "index": 448,
          "name": "Slope Curved 2 x 2 Lip, No Studs with TMNT Foot Clan Logo in White Circle Print"
         },
         {
          "index": 449,
          "name": "Brick 1 x 4 with Yellow '1' and Fancy Outline Print"
         },
         {
          "index": 450,
          "name": "Brick 1 x 6 x 5 with Hieroglyphs and Minifig Print"
         },
         {
          "index": 451,
          "name": "Wedge 12 x 3 Left with Shark Skeleton and Blue/Silver Stripes Print"
         },
         {
          "index": 452,
          "name": "Brick Round 2 x 2 Dome Top with Orange with Silver Band around Dome Pattern (R3-S1)"
         },
         {
          "index": 453,
          "name": "BRICK 1X2X2 NO. 5 Cat Food"
         },
         {
          "index": 454,
          "name": "Brick Round 2 x 2 x 2 Robot Body with Black Rectangle Outlines and Lime Droid Print [R7-A7]"
         },
         {
          "index": 455,
          "name": "Brick 1 x 1 with Blue 'C' Print (Bold Font)"
         },
         {
          "index": 456,
          "name": "Wedge 6 x 4 Cutout without Stud Notches with Red Number 5 Print [6334]"
         },
         {
          "index": 457,
          "name": "Brick 1 x 1 with Blue 'Z' Print (Bold Font)"
         },
         {
          "index": 458,
          "name": "Brick 1 x 3 with Cat Face Wide Eyes Watering (Sad Unikitty) Print"
         },
         {
          "index": 459,
          "name": "LEGO Round Brick 1 x 1 with Red SHARK REPELLENT and No Sharks Sign Decoration with Open Stud (29714)"
         },
         {
          "index": 460,
          "name": "Brick 2 x 4 with Gold Holly and '16' Print"
         },
         {
          "index": 461,
          "name": "Brick 1 x 3 with Unikitty big sparkly eyes"
         },
         {
          "index": 462,
          "name": "Slope 65 2 x 2 x 2 with Bottom Tube with Layered Dress with Purple Skirt and Sash Print"
         },
         {
          "index": 463,
          "name": "Slope Brick 33  3 x  2 with White Triangles Print"
         },
         {
          "index": 464,
          "name": "Brick 2 x 4 with Gold Holly and '23' Print"
         },
         {
          "index": 465,
          "name": "Cylinder Hemisphere 4 x 4 with R4-P17 Astromech Droid Print"
         },
         {
          "index": 466,
          "name": "Brick 1 x 8 with Gold 'Backer' Print (BÃ¤cker)"
         },
         {
          "index": 467,
          "name": "Slope 45 2 x 2 with RoboForce Red Chevron and Yellow Eye Print"
         },
         {
          "index": 468,
          "name": "Slope 18 4 x 2 with Two Eye Print"
         },
         {
          "index": 469,
          "name": "Brick 1 x 3 with Bull's Head, Blue and Red Stripes Print"
         },
         {
          "index": 470,
          "name": "Slope Curved 2 x 2 x 2/3 with Dark Tan Fur Print"
         },
         {
          "index": 471,
          "name": "Cylinder Hemisphere 4 x 4 with Dark Blue R2D2 Control Panel Print"
         },
         {
          "index": 472,
          "name": "Wedge 4 x 2 x 1 1/3 with 1 x 4 Base with 1 Black and 3 White Stripes Print"
         },
         {
          "index": 473,
          "name": "Brick 1 x 6 with 'PEACE' and Flower Print"
         },
         {
          "index": 474,
          "name": "Slope Curved 2 x 2 x 2/3 with Jake the Dog Face Print [No Studs]"
         },
         {
          "index": 475,
          "name": "Slope 65° 2 x 2 x 2 with Bottom Tube with Bellatrix Lestrange Skirt Print"
         },
         {
          "index": 476,
          "name": "Brick, Modified 2 x 4 x 2 Double Curved Top with Fireman Torso Print"
         },
         {
          "index": 477,
          "name": "Slope 65° 2 x 2 x 2 with Bottom Tube with Layered Dress with Medium Blue Skirt and Gold Belt and Sash Print"
         },
         {
          "index": 478,
          "name": "Slope Curved 2 x 2 x 2/3 with Dark Blue Eyes and Azure Lines print"
         },
         {
          "index": 479,
          "name": "Brick 1 x 6 with Black 'TABAK' Serif Print"
         },
         {
          "index": 480,
          "name": "Slope 33 3 x 2 Smooth with McDonald's Fry Girl Print"
         },
         {
          "index": 481,
          "name": "Wedge 12 x 3 Right with Gray Panels & Lime/Med Orange/Dk Red Markings Print"
         },
         {
          "index": 482,
          "name": "Wedge 6 x 2 Right with Alpha Team Arctic Print [4744]"
         },
         {
          "index": 483,
          "name": "Brick Curved 2 x 2 x 2/3 Two Studs, Curve Slope End with Red/White Flame on Yellow, Black Stripes Print"
         },
         {
          "index": 484,
          "name": "Slope 30° 1 x 2 x 2/3 - Red 'X' on Dark Blue Banner Print (X-Men Logo)"
         },
         {
          "index": 485,
          "name": "Slope 30° 1 x 2 x 2/3 with Stylized Red 'S'  on White Background print (Superhero and Superman logo)"
         },
         {
          "index": 486,
          "name": "Brick 1 x 6 with Dark Red Bottom Stripe Print - Set 611-2"
         },
         {
          "index": 487,
          "name": "Slope 45 10 x 2 x 2 Double with Wrench Print"
         },
         {
          "index": 488,
          "name": "Brick 1 x 4 with Black Dollar Sign on Yellow Badge Print"
         },
         {
          "index": 489,
          "name": "Brick 1 x 10 with Dark Purple 'May' and 'June' Print on Opposite Sides"
         },
         {
          "index": 490,
          "name": "Slope 65° 2 x 2 x 2 with Bottom Tube with Spotted Dress with Black Lace and Ruffles Print"
         },
         {
          "index": 491,
          "name": "Slope 33 3 x 6 with MTron Logo Print"
         },
         {
          "index": 492,
          "name": "Brick, Modified 2 x 2 No Studs, Sloped with 3 Side Pistons Raised and Freeze Blue/Silver/Orange Print"
         },
         {
          "index": 493,
          "name": "Wedge 6 x 2 Right with Blue and Silver Wraparound Print [8374]"
         },
         {
          "index": 494,
          "name": "Wedge 6 x 2 Right with SW Speeder Print [7103]"
         },
         {
          "index": 495,
          "name": "Slope Curved 6 x 1 with Police Blue Line and Headlight Print Left"
         },
         {
          "index": 496,
          "name": "Slope Curved 5 x 8 x 2/3 with Sewer Grate and Rivets and Lime and Dark Purple Circle Print"
         },
         {
          "index": 497,
          "name": "Brick 2 x 4 with White 'POLICE' Thin Print"
         },
         {
          "index": 498,
          "name": "Brick, Round 1 x 1 Open Stud with HP Shrunken Head Print"
         },
         {
          "index": 499,
          "name": "Brick 1 x 8 with 'P 431 L 30 TON T 9 TON' Print"
         },
         {
          "index": 500,
          "name": "Brick, Modified 2 x 4 x 2 Double Curved Top with Haystack and Mouse Print"
         },
         {
          "index": 501,
          "name": "Wedge 8 x 3 x 2 Open Left with Sand Green Square Print"
         },
         {
          "index": 502,
          "name": "Brick 1 x 4 - Alternating Vertical Red and White Stripes Print (Captain America SDCC Brickheadz)"
         },
         {
          "index": 503,
          "name": "Brick 1 x 4 with White TRANSPORT Stencil Print"
         },
         {
          "index": 504,
          "name": "Wedge 4 x 4 Pyramid Center with Red / Silver Print [8385]"
         },
         {
          "index": 505,
          "name": "Brick 1 x 4 - Harness with 2 Rectangle Buckles and 1 Star Print (Captain America Brickheadz)"
         },
         {
          "index": 506,
          "name": "Slope 33° 3 x 2 with Black 28 and Black and Yellow Stripes Print"
         },
         {
          "index": 507,
          "name": "Brick, Modified 2 x 2 No Studs, Sloped with Angled Side Block Extensions and Freeze Print (Set 4579)"
         },
         {
          "index": 508,
          "name": "Brick 1 x 1 with Blue 'P' Print (Bold Font)"
         },
         {
          "index": 509,
          "name": "Brick 2 x 4 with Gold Holly and '17' Print"
         },
         {
          "index": 510,
          "name": "Slope 65° 2 x 2 x 2 with Bottom Tube with Robe with Cracks Print (Statue at Dol Guldur)"
         },
         {
          "index": 511,
          "name": "BRICK 1X4 with Batman Logo print"
         },
         {
          "index": 512,
          "name": "BRICK 1X2X2 Vest print"
         },
         {
          "index": 513,
          "name": "Slope 65° 2 x 2 x 2 with Bottom Tube with White Inset with Black and Gold Trim Dress Print"
         },
         {
          "index": 514,
          "name": "Brick 1 x 1 with Blue 'M' Print (Bold Font)"
         },
         {
          "index": 515,
          "name": "Brick, Round 2 x 2 x 2 Robot Body with Silver and Copper Tubing Print [7133]"
         },
         {
          "index": 516,
          "name": "Brick 1 x 6 with Red 'Shell' Bold Print"
         },
         {
          "index": 517,
          "name": "Slope 33° 3 x 4 with Headlights and Grill Print"
         },
         {
          "index": 518,
          "name": "Brick 1 x 4 - Captain America Star Print (SDCC Brickheadz)"
         },
         {
          "index": 519,
          "name": "Brick 1 x 1 with Blue 'Ä' Print (Bold Font)"
         },
         {
          "index": 520,
          "name": "Wedge 6 x 2 Left with SW Speeder Print [7103]"
         },
         {
          "index": 521,
          "name": "Wedge 12 x 3 Right with Silver, Green, Orange Print (Set 7133)"
         },
         {
          "index": 522,
          "name": "Black Panther Torso"
         },
         {
          "index": 523,
          "name": "Brick Curved 2 x 4 x 2 Double Curved Top with Monster Face Scared with Teeth Print [2728]"
         },
         {
          "index": 524,
          "name": "Slope Curved 2 x 1 No Studs [1/2 Bow] with Ecto 1 Stripes Print"
         },
         {
          "index": 525,
          "name": "Hemisphere 11 x 11 - 4 Studs on Top with Asteroid Field Print [75008]"
         },
         {
          "index": 526,
          "name": "Hemisphere 11 x 11 - 4 Studs on Top with Tatooine Brown / Orange Planet Print (9675)"
         },
         {
          "index": 527,
          "name": "LEGO Slope 45° 2 x 1 with right eye"
         },
         {
          "index": 528,
          "name": "Brick 2 x 4 with Gold Holly and '19' Print"
         },
         {
          "index": 529,
          "name": "Wedge 6 x 2 Right with Blue Water Splash Print [7590]"
         },
         {
          "index": 530,
          "name": "ROUND BRICK 1X1 NO. 9"
         },
         {
          "index": 531,
          "name": "Slope Curved 4 x 2 No Studs with Smiling Mouth Left Half Print (L. McQueen)"
         },
         {
          "index": 532,
          "name": "Brick 1 x 1 with Blue 'Ä' Print"
         },
         {
          "index": 533,
          "name": "Brick 1 x 8 with Black Stripe and 16 Blue Squares Print"
         },
         {
          "index": 534,
          "name": "Slope Curved 2 x 2 Lip, No Studs with Yellow and Dark/Light Gray Headlamp Print [8380]"
         },
         {
          "index": 535,
          "name": "Slope, Curved 2 x 2 Lip, No Studs with White Checks and Flames Print (Spiky) - Set 4571"
         },
         {
          "index": 536,
          "name": "Brick 1 x 1 with Blue 'D' Print (Bold Font)"
         },
         {
          "index": 537,
          "name": "Slope Curved 4 x 2 No Studs with Smiling Mouth Right Half Print (L. McQueen)"
         },
         {
          "index": 538,
          "name": "Brick 2 x 4 with Plane Windows 8 in Thin Blue Stripe Print"
         },
         {
          "index": 539,
          "name": "LEGO Slope 45° 2 x 1 with left eye"
         },
         {
          "index": 540,
          "name": "Brick 1 x 1 with Eye Sideways Print on Two Sides"
         },
         {
          "index": 541,
          "name": "Slope 65° 2 x 2 x 2 with Bottom Tube - Robe with Dark Purple Inset and Folds print (Maleficent)"
         },
         {
          "index": 542,
          "name": "Brick, Modified 2 x 2 No Studs, Sloped with 3 Side Pistons Raised and Loopin Print (Set 4568)"
         },
         {
          "index": 543,
          "name": "Slope 45° 2 x 4 with Octan Text Print"
         },
         {
          "index": 544,
          "name": "Wedge 6 x 2 Right with Blue and Silver Side Print [8374]"
         },
         {
          "index": 545,
          "name": "Technic Brick 6 x 8 Open Center with 2 Fixed Rotatable Friction Pins on 3 Sides"
         },
         {
          "index": 546,
          "name": "Brick 1 x 1 with Blue Danish 'AE' Print"
         },
         {
          "index": 547,
          "name": "Wedge 6 x 2 Right with Purple Wing Print [1374]"
         },
         {
          "index": 548,
          "name": "Wedge 4 x 2 Triple Left with Alpha Team Arctic Speeder Print"
         },
         {
          "index": 549,
          "name": "Brick, Modified 2 x 2 No Studs, Sloped with 3 Side Pistons Raised and Lightor Lightning Bolt Print (Set 4573)"
         },
         {
          "index": 550,
          "name": "Brick 2 x 4 with White Diagonal Stripes Print on Both Sides"
         },
         {
          "index": 551,
          "name": "Slope, Curved 2 x 2 Lip, No Studs with '89', Lime/Black/White Stripes Print"
         },
         {
          "index": 552,
          "name": "Brick 1 x 1 with Blue '0' Print (Bold Font)"
         },
         {
          "index": 553,
          "name": "Brick 2 x 2 with Two Black Rectangles Print [White]"
         },
         {
          "index": 554,
          "name": "Brick 1 x 4 with Gold '126' Print"
         },
         {
          "index": 555,
          "name": "Wedge 6 x 2 Right with Silver Windscreen Print [10026]"
         },
         {
          "index": 556,
          "name": "Cylinder Hemisphere 2 x 2 with Cutout with Armillary Sphere Right Print"
         },
         {
          "index": 557,
          "name": "Brick 2 x 4 with Gold Holly and '1' Print"
         },
         {
          "index": 558,
          "name": "Brick 1 x 10 with Dark Purple 'January' and 'February' Print on Opposite Sides"
         },
         {
          "index": 559,
          "name": "Slope 33° 3 x 4 with Silver Island Xtreme Stunts Logo Print"
         },
         {
          "index": 560,
          "name": "Brick 1 x 6 without Bottom Tubes with Cross Side Supports with Blue &quot;HOTEL&quot; Thick Print"
         },
         {
          "index": 561,
          "name": "Brick 1 x 2 with Army Emblem on Dark Tan Background Print"
         },
         {
          "index": 562,
          "name": "Brick 2 x 4 with Gold Holly and '2' Print"
         },
         {
          "index": 563,
          "name": "Brick 1 x 8 with Red &quot;FIRE STATION&quot; Thin Print"
         },
         {
          "index": 564,
          "name": "Brick 1 x 8 with Ferry Squares Light Blue 32 in 2 Lines Print"
         },
         {
          "index": 565,
          "name": "Wedge 6 x 2 Right with Red/Yellow/White Flame Print and 99 Print [8382]"
         },
         {
          "index": 566,
          "name": "Slope, Curved 8 x 6 x 2 Double with Chrome Silver Sides Print"
         },
         {
          "index": 567,
          "name": "Slope, Curved 6 x 1 with SW Control Panel Print"
         },
         {
          "index": 568,
          "name": "Slope 45° 2 x 4 with Headlights 1 Print, White Lines"
         },
         {
          "index": 569,
          "name": "Brick 1 x 6 with 'Formula 1' and Chequered Flag Print"
         },
         {
          "index": 570,
          "name": "Brick Curved 2 x 2 x 2/3 Two Studs, Lip End with '37' and Red / Orange / Blue Print [4595]"
         },
         {
          "index": 571,
          "name": "Brick Curved 2 x 2 Lip, No Studs with White Shark, Silver Stripes Print"
         },
         {
          "index": 572,
          "name": "Hemisphere 11 x 11 - 4 Studs on Top with Hoth White / Medium Blue / Light Bluish Gray Planet Print [75009]"
         },
         {
          "index": 573,
          "name": "Brick, Modified 2 x 4 x 2 Double Curved Top with Tools Print"
         },
         {
          "index": 574,
          "name": "Slope 45° 2 x 4 with Red and Gold Triangles Right Print"
         },
         {
          "index": 575,
          "name": "BRICK 1X4, Robin Print"
         },
         {
          "index": 576,
          "name": "Slope 65° 2 x 2 x 2 with Bottom Tube with White Apron with Candy Canes in Pocket Skirt Print"
         },
         {
          "index": 577,
          "name": "ROOF TILE 2X2X2, DEG. 65, NO. 56"
         },
         {
          "index": 578,
          "name": "Brick 2 x 6 x 3 Triple Curved Bottom with White Flecks and Green Strawberry Leaves Print"
         },
         {
          "index": 579,
          "name": "Brick 1 x 16 with Fire Logo Badge and Red Diagonal Stripes Print"
         },
         {
          "index": 580,
          "name": "Wedge 12 x 3 Right with SW White Stripe and Starburst Print [7751]"
         },
         {
          "index": 581,
          "name": "Wedge 6 x 4 Cutout without Stud Notches with Divers Blue Team Logo Print [2536]"
         },
         {
          "index": 582,
          "name": "Brick Round 2 x 2 x 2 Robot Body with Black Rectangle Outlines and White Droid Print [R7-D4]"
         },
         {
          "index": 583,
          "name": "Slope 18° 4 x 2 with Classic Space Logo Print"
         },
         {
          "index": 584,
          "name": "Brick 1 x 6 x 5 with Stone and Slytherin Snake Print (4735)"
         },
         {
          "index": 585,
          "name": "Brick 1 x 4 with Racing 73 Print"
         },
         {
          "index": 586,
          "name": "Brick Round 6 x 6 with 4 Side Pin Holes and Center Hole"
         },
         {
          "index": 587,
          "name": "Brick 2 x 2 with Minecraft Micro Mob Ghast Print"
         },
         {
          "index": 588,
          "name": "Wedge 12 x 3 Right with Shark Skeleton and Blue/Silver Stripes Print"
         },
         {
          "index": 589,
          "name": "Brick 1 x 2 with White Grill Print"
         },
         {
          "index": 590,
          "name": "Brick, Modified 2 x 2 No Studs, Sloped with Angled Side Block Extensions and Rip Print (Set 4574)"
         },
         {
          "index": 591,
          "name": "Brick 1 x 6 with Gold '120' Print"
         },
         {
          "index": 592,
          "name": "Wedge 8 x 3 x 2 Open Right with Red and Black Stripes and Green Scales Print [4589]"
         },
         {
          "index": 593,
          "name": "Brick 1 x 3 with Radio and CD Player Print"
         },
         {
          "index": 594,
          "name": "Brick Round 2 x 2 Dome Top with Metallic Gold Droid Print [R8-B7]"
         },
         {
          "index": 595,
          "name": "Slope Curved 2 x 4 x 2/3 No Studs [No Bottom Tubes] with Skull and Stylised Lighning Bolt Print"
         },
         {
          "index": 596,
          "name": "Brick 2 x 4 with 'KNIGHT BUS' Print"
         },
         {
          "index": 597,
          "name": "Cylinder Hemisphere 11 x 11, Studs on Top - Death Star Half with Superlaser (9676)"
         },
         {
          "index": 598,
          "name": "Brick 2 x 10 with Black 'SEPTEMBER' and 'OCTOBER' Print on opposite sides"
         },
         {
          "index": 599,
          "name": "Slope Curved 2 x 2 Lip, No Studs with Checkered Stripe Print [8350]"
         },
         {
          "index": 600,
          "name": "Brick 1 x 8 with INT-EUROPE Print"
         },
         {
          "index": 601,
          "name": "Brick, Modified 2 x 2 No Studs, Sloped with Angled Side Block Extensions and Shredd Print (Set 4570)"
         },
         {
          "index": 602,
          "name": "Brick 2 x 4 with Wavy Mouth and Fangs Print"
         },
         {
          "index": 603,
          "name": "Brick  1 x  6 with 'BASEL' on White Background Print"
         },
         {
          "index": 604,
          "name": "Brick 1 x 2 with Lego Logo New Style Print"
         },
         {
          "index": 605,
          "name": "Brick 2 x 4 with Gold Holly and '7' Print"
         },
         {
          "index": 606,
          "name": "Slope, Curved 2 x 2 Lip, No Studs with Gray Fade Triple Headlight Print"
         },
         {
          "index": 607,
          "name": "Brick 1 x 1 with Blue '-' Print (Bold Font)"
         },
         {
          "index": 608,
          "name": "Brick 2 x 4 with Gold Holly and '9' Print"
         },
         {
          "index": 609,
          "name": "Slope 65° 2 x 2 x 2 with Bottom Tube with Robes with Gold Flames Trim over Red Dress with Black Skulls Print"
         },
         {
          "index": 610,
          "name": "Brick 2 x 2 x 3 with 3 Green Dots Print"
         },
         {
          "index": 611,
          "name": "Panel 4 x 6 x 6 Sloped with Amazon Brick and Vines Print"
         },
         {
          "index": 612,
          "name": "Brick 2 x 2 with Yellow '1' and Fancy Outline Print on Both Sides"
         },
         {
          "index": 613,
          "name": "Brick  1 x  2 with Black Lion on Red/Gold Shield Print"
         },
         {
          "index": 614,
          "name": "Brick Special 8 x 16 with 1 x 4 Indentations and 1 x 4 Plate with Floor Mats Print"
         },
         {
          "index": 615,
          "name": "Brick 1 x 6 with Gold '722' Print"
         },
         {
          "index": 616,
          "name": "Brick 1 x 1 with Eyes Black with White Pupils Print"
         },
         {
          "index": 617,
          "name": "Brick, Modified 2 x 2 x 2/3 Two Studs, Lip End with '3' and Checker Print"
         },
         {
          "index": 618,
          "name": "Brick Round 1 x 1 with Droid Head Print"
         },
         {
          "index": 619,
          "name": "Brick, Modified 2 x 2 No Studs, Sloped with 3 Side Pistons Raised and Silver Engine Print"
         },
         {
          "index": 620,
          "name": "Brick Round 2 x 2 Dome Top with Silver and Green Print (R2-R7)"
         },
         {
          "index": 621,
          "name": "Slope 65 2 x 2 x 2 with Bottom Tube with Dress with Gray and Black Fabric Lines print"
         },
         {
          "index": 622,
          "name": "BRICK 1X2, NO. 19"
         },
         {
          "index": 623,
          "name": "Brick 1 x 8 with Blue 'ESSO WAGENPFLEGE' Print"
         },
         {
          "index": 624,
          "name": "Brick 1 x 8 with 'GRINGOTTS' Print"
         },
         {
          "index": 625,
          "name": "Brick 1 x 4 with White 'Shop' Print"
         },
         {
          "index": 626,
          "name": "Brick, Modified 2 x 2 No Studs, Sloped with 3 Side Pistons Raised and Red/Black Lines and Red Dots Print"
         },
         {
          "index": 627,
          "name": "Slope Curved 2 x 4 x 2/3 No Studs with Bottom Tubes with Pink Heart on Blue Wings, White Circles and 2 Magenta Hearts Print"
         },
         {
          "index": 628,
          "name": "Brick 1 x 2 with Eyes and Smile and Eyebrows Print"
         },
         {
          "index": 629,
          "name": "Brick 1 x 1 with Blue 'Q' Print (Bold Font)"
         },
         {
          "index": 630,
          "name": "Brick 1 x 4 with Yellow Flower and 2 Green Leaves Print"
         },
         {
          "index": 631,
          "name": "Brick 1 x 1 with Blue Danish 'Å' Print (Bold Font)"
         },
         {
          "index": 632,
          "name": "Brick 2 x 4 with Red Diagonal Stripes Print"
         },
         {
          "index": 633,
          "name": "Brick 2 x 4 with Air Canada Maple Leaf Logo Print"
         },
         {
          "index": 634,
          "name": "PLATE, W/ BOW 2X4X2/3, Dress Belle"
         },
         {
          "index": 635,
          "name": "Wedge 6 x 2 Left with 3 Ovals Print [8356]"
         },
         {
          "index": 636,
          "name": "Brick 2 x 4 with Gold Holly and '5' Print"
         },
         {
          "index": 637,
          "name": "Slope Curved 3 x 2 No Studs - Letter \"S\" Print"
         },
         {
          "index": 638,
          "name": "Wedge 6 x 4 Inverted with 4 Stud Connections"
         },
         {
          "index": 639,
          "name": "Brick 2 x 4 with Gold Holly and '4' Print"
         },
         {
          "index": 640,
          "name": "BRICK 1X2 WITHOUT PIN NO. 2"
         },
         {
          "index": 641,
          "name": "Brick Curved 2 x 2 x 2/3 Two Studs, Curve Slope End with 66, Black Triangle, White Square Print"
         },
         {
          "index": 642,
          "name": "Brick 1 x 10 with Dark Purple 'November' and 'December' Print on Opposite Sides"
         },
         {
          "index": 643,
          "name": "Brick Curved 1 x 4 x 2 Centre Stud Top with Car Grill Fabuland Yellow / Red Print"
         },
         {
          "index": 644,
          "name": "Brick 1 x 6 x 5 with Stone and Moss Print [4707]"
         },
         {
          "index": 645,
          "name": "Slope 45° 2 x 4 with Dark Gray and Black Lines Print"
         },
         {
          "index": 646,
          "name": "Cylinder Hemisphere 4 x 4 with Eyes and F1 Helmet Print (Francesco)"
         },
         {
          "index": 647,
          "name": "Brick, Modified 2 x 2 No Studs, Sloped with 3 Side Pistons Raised and Silver/Red/Yellow Flame Print"
         },
         {
          "index": 648,
          "name": "Brick Curved 2 x 2 No Studs, Sloped with 3 Side Pistons Raised and '46', Orange Pistons and Triangles Print [4595]"
         },
         {
          "index": 649,
          "name": "Brick 1 x 8 with Gold '721' Print"
         },
         {
          "index": 650,
          "name": "Brick 1 x 4 with Ferry Squares Light Blue in 2 Lines Print"
         },
         {
          "index": 651,
          "name": "Slope 33° 3 x 6 with Small Classic Space Logo Print"
         },
         {
          "index": 652,
          "name": "ROUND BRICK 1X1 NO. 7 Power Bolt"
         },
         {
          "index": 653,
          "name": "Brick 2 x 10 with Black 'NOVEMBER' and 'DECEMBER' Print on opposite sides"
         },
         {
          "index": 654,
          "name": "Brick 2 x 2 No Studs, Sloped with 3 Side Pistons Raised and '6', White Triangle and Orange Stripes Print [4582]"
         },
         {
          "index": 655,
          "name": "Brick 2 x 4 x 3 with Octan Print"
         },
         {
          "index": 656,
          "name": "Brick, Modified 2 x 2 No Studs, Sloped with 3 Side Pistons Raised and Surfer Print (Set 4567)"
         },
         {
          "index": 657,
          "name": "Brick 1 x 1 with Bold White 2 Print"
         },
         {
          "index": 658,
          "name": "Slope 65 2 x 2 x 2 Smooth without Bottom Tube with HP McGonagall Robe Print"
         },
         {
          "index": 659,
          "name": "Brick  1 x  4 w/o Centre Studs w LEGO Logo Open \"O\"/Red Patt."
         },
         {
          "index": 660,
          "name": "Brick 1 x 1 with Blue '6' Print (Bold Font)"
         },
         {
          "index": 661,
          "name": "Brick, Modified 2 x 2 No Studs, Sloped with Angled Side Block Extensions and Lightor Lightning Bolt Print (Set 4573)"
         },
         {
          "index": 662,
          "name": "Slope 33 3 x 2 Smooth with McDonald's Chicken Head Print"
         },
         {
          "index": 663,
          "name": "Brick 1 x 4 with Gold '122' Print"
         },
         {
          "index": 664,
          "name": "Wedge 12 x 3 Left with SW White Stripe and Starburst Print [7751]"
         },
         {
          "index": 665,
          "name": "Slope, Curved 2 x 2 Lip, No Studs with White/Yellow/Red Life Preserver Print"
         },
         {
          "index": 666,
          "name": "Slope 18 4 x 2 with SW Rebel A-wing Panel Print"
         },
         {
          "index": 667,
          "name": "Brick 1 x 6 with 2 Green Stripes and Red Number 2 Print"
         },
         {
          "index": 668,
          "name": "Brick 10 x 10 without Bottom Tubes, with '+' Cross Support (early Baseplate)"
         },
         {
          "index": 669,
          "name": "ROUND BRICK 2X2X2, NO 1007"
         },
         {
          "index": 670,
          "name": "Wedge 4 x 4 No Top Studs with Dragon Head and Blue Lightning Print"
         },
         {
          "index": 671,
          "name": "Brick Round 2 x 2 Dome Top with Green Print (R3-D5)"
         },
         {
          "index": 672,
          "name": "Brick 1 x 1 Minecraft Zombie Pigman Face Print"
         },
         {
          "index": 673,
          "name": "Brick Curved 2 x 2 x 2/3 Two Studs, Lip End with Silver/Black/Red Number 3 Left Half Print [8381]"
         },
         {
          "index": 674,
          "name": "Slope 65° 2 x 2 x 2 with Bottom Tube with Red Spider Web and 2 Silver Spiders Print"
         },
         {
          "index": 675,
          "name": "Brick, Modified 2 x 6 x 3 Triple Curved Bottom with Yellow Flowers Print"
         },
         {
          "index": 676,
          "name": "Brick 1 x 8 with Six Light Blue Rectangles Print ferry windows"
         },
         {
          "index": 677,
          "name": "Slope 65° 2 x 2 x 2 with Bottom Tube with Dress with Pink Ribbon and Silver Elven Clasp Print"
         },
         {
          "index": 678,
          "name": "Slope Curved 6 x 1 with Black Vent Print (SW Republic Gunship)"
         },
         {
          "index": 679,
          "name": "Brick 1 x 8 with Red 'KIOSK' Thin (Letters Close) Print"
         },
         {
          "index": 680,
          "name": "Wedge 4 x 4 No Top Studs with Large Batman Logo Print"
         },
         {
          "index": 681,
          "name": "Slope 33° 3 x 4 with Purple Roof Tiles Print"
         },
         {
          "index": 682,
          "name": "Brick 1 x 1 with Blue 'J' Print (Bold Font)"
         },
         {
          "index": 683,
          "name": "BRICK 2X2, Horseshoe Number 2"
         },
         {
          "index": 684,
          "name": "Slope 18° 4 x 2 with Ferrari Headlight Left Print"
         },
         {
          "index": 685,
          "name": "Brick 2 x 4 with Gold Holly and '12' Print"
         },
         {
          "index": 686,
          "name": "Brick Round 2 x 2 Dome Top with Silver and Red Droid Print [R5-D4]"
         },
         {
          "index": 687,
          "name": "Brick Round 2 x 2 Dome Top with Green R2 Droid Print"
         },
         {
          "index": 688,
          "name": "Slope 45° 2 x 2 with Left Green Inverse 1/4 Disc Print"
         },
         {
          "index": 689,
          "name": "Slope Curved 4 x 1 Double No Studs with Lips and Round Headlights Print (Flo)"
         },
         {
          "index": 690,
          "name": "Brick 1 x 4 with Red Envelope Print, Right Side"
         },
         {
          "index": 691,
          "name": "Brick, Arch 1 x 6 x 2 with Indian Print"
         },
         {
          "index": 692,
          "name": "Brick Round 2 x 2 x 2 Robot Body with Blue Lines and Blue Print (R2-D2 Clone Wars)"
         },
         {
          "index": 693,
          "name": "Brick Round 2 x 2 x 2 Robot Body with Hatch and Handle Print"
         },
         {
          "index": 694,
          "name": "Brick 1 x 3 x 5 with Wrench, Jack, and Pump Print"
         },
         {
          "index": 695,
          "name": "Wedge  4 x  4 Triple with Droid Fighter Print"
         },
         {
          "index": 696,
          "name": "Brick Round 2 x 2 x 2 with Bottom Axle Holder 'x' Shape '+' Orientation (32829)"
         },
         {
          "index": 697,
          "name": "Brick 1 x 2 with Pumpkin Jack O' Lantern Eye Print"
         },
         {
          "index": 698,
          "name": "BRICK 1X2, Tie with skulls print"
         },
         {
          "index": 699,
          "name": "Slope 65° 2 x 2 x 2 with Bottom Tube with Light Bluish Gray Inset Skirt Print"
         },
         {
          "index": 700,
          "name": "Slope 30 1 x 2 x 2/3 with Batman Logo Pattern (Head Facing Narrow End of Slope)"
         },
         {
          "index": 701,
          "name": "Slope Curved 3 x 2 No Studs - USA Flag Print"
         },
         {
          "index": 702,
          "name": "Slope 65 2 x 2 x 2 with Bottom Tube with HP Professor Sprout Skirt with Pockets Print"
         },
         {
          "index": 703,
          "name": "Slope, Curved 8 x 6 x 2 Double with Fire Dept. Print"
         },
         {
          "index": 704,
          "name": "Slope Curved 2 x 2 Lip, No Studs with Red/Black Lightning Print [4566]"
         },
         {
          "index": 705,
          "name": "Brick 2 x 4 x 3 with 'Best' and Butterfly front LEGO Friends Logo back Print"
         },
         {
          "index": 706,
          "name": "Slope 65° 2 x 2 x 2 with Bottom Tube, Skirt with Gold Button and Dark Bluish Gray Trim Print"
         },
         {
          "index": 707,
          "name": "Brick Round 2 x 2 x 2 Robot Body with Red Lines and Red Droid  Print [R4-P17]"
         },
         {
          "index": 708,
          "name": "Slope 65 2 x 2 x 2 with Bottom Tube with Green Eye Right Print (Mack)"
         },
         {
          "index": 709,
          "name": "Brick 2 x 2 with Lego Logo [Closed O] Print"
         },
         {
          "index": 710,
          "name": "Brick Round 2 x 2 x 2 Robot Body with Gray Lines and Carrots Print [Christmas R2-D2]"
         },
         {
          "index": 711,
          "name": "Slope Curved 2 x 2 x 2/3 with Lion Legend Beast Eyes and Crest Print"
         },
         {
          "index": 712,
          "name": "Slope Curved 6 x 1 with Repeating Red and Orange Scales Print"
         },
         {
          "index": 713,
          "name": "Slope Curved 2 x 2 Lip, No Studs with Spider-Man Logo Print"
         },
         {
          "index": 714,
          "name": "Slope 33° 3 x 2 with Purple Roof Tiles Print"
         },
         {
          "index": 715,
          "name": "Brick 1 x 4 with Black 'IKA 83' Print"
         },
         {
          "index": 716,
          "name": "Brick 1 x 1 with Blue '8' Print (Bold Font)"
         },
         {
          "index": 717,
          "name": "Slope 65° 2 x 2 x 2 with Bottom Tube with Layered Dress with Light Blue Skirt Print"
         },
         {
          "index": 718,
          "name": "Brick, Modified 2 x 2 x 2/3 Two Studs, Lip End with Blue/White Stripe and Silver Side Grills Print"
         },
         {
          "index": 719,
          "name": "Wedge 6 x 2 Left with Blue Water Splash Print [7590]"
         },
         {
          "index": 720,
          "name": "Brick 1 x 1 with Blue '3' Print (Bold Font)"
         },
         {
          "index": 721,
          "name": "Slope 33° 3 x 2 with Red Circle, Danger Stripes and 'LASER' Print"
         },
         {
          "index": 722,
          "name": "Brick Curved 2 x 2 x 2/3 Two Studs, Curved Slope End with Red/Black Circle Print [8385]"
         },
         {
          "index": 723,
          "name": "Brick 2 x 4 with Gold Holly and '3' Print"
         },
         {
          "index": 724,
          "name": "Brick 1 x 6 with Black 'TAXE' and Dots Bold Print"
         },
         {
          "index": 725,
          "name": "BRICK 1X4, Hulk Torso Top"
         },
         {
          "index": 726,
          "name": "BRICK 1X3, Ice King Print"
         },
         {
          "index": 727,
          "name": "Brick 1 x 8 with Coast Guard Logo and C 503 Print"
         },
         {
          "index": 728,
          "name": "Brick 1 x 8 with Blue 'GARAGE' Sans-Serif Thin Print"
         },
         {
          "index": 729,
          "name": "Slope, Curved 2 x 2 Lip, No Studs with Gauges and Yellow Line Print"
         },
         {
          "index": 730,
          "name": "Brick 1 x 1 with Blue 'F' Print (Bold Font)"
         },
         {
          "index": 731,
          "name": "Brick Curved 2 x 4 x 2 No Studs, Triple Curved Top with Eyes Simple Print"
         },
         {
          "index": 732,
          "name": "Brick 2 x 4 with Peace Symbol, Road, and Flowers Print"
         },
         {
          "index": 733,
          "name": "Brick 1 x 4 with Bank and Dollar Signs Print [4608]"
         },
         {
          "index": 734,
          "name": "Slope 65° 2 x 2 x 2 with Bottom Tube with Layered Dress with Frilly Trim Print "
         },
         {
          "index": 735,
          "name": "Slope 65° 2 x 2 x 2 with Bottom Tube with Blue Ballgown Dress Print"
         },
         {
          "index": 736,
          "name": "Cone Half 6 x 3 x 6 (Elliptic Paraboloid)"
         },
         {
          "index": 737,
          "name": "Wedge 6 x 2 Left with Blue and Silver Side Print [8374]"
         },
         {
          "index": 738,
          "name": "Slope, Curved 2 x 2 Lip, No Studs with Printed Circuitry Print (Pulse) - Set 4575"
         },
         {
          "index": 739,
          "name": "PLATE W/ BOW 2X2X2/3, NO. 1"
         },
         {
          "index": 740,
          "name": "BRICK 2X2X1 NO. 1"
         },
         {
          "index": 741,
          "name": "Brick 1 x 6 without Centre Studs with Red/White Shell Print"
         },
         {
          "index": 742,
          "name": "Brick 2 x 4 with Gold Holly and '21' Print"
         },
         {
          "index": 743,
          "name": "Wedge 12 x 3 Left with Blue Shark and Silver Wave Print"
         },
         {
          "index": 744,
          "name": "FRONT, 2X2, SPORT NO. 6"
         },
         {
          "index": 745,
          "name": "Brick 2 x 4 with Eyes and Bushy Eyebrows Print"
         },
         {
          "index": 746,
          "name": "Slope Brick 33  3 x  6 with SW ARC-170 Right Print"
         },
         {
          "index": 747,
          "name": "Brick 1 x 1 with Blue '+' Print (Bold Font)"
         },
         {
          "index": 748,
          "name": "Brick 1 x 8 without Bottom Tubes with Cross Side Supports with Blue 'VW SALG VW' Print"
         },
         {
          "index": 749,
          "name": "BRICK 1X4, Torso Hulk Bottom"
         },
         {
          "index": 750,
          "name": "Brick 1 x 4 with Black 'STERLING' Print (Set 1551)"
         },
         {
          "index": 751,
          "name": "Slope Curved 2 x 2 x 2/3 with Red, Light Bluish Gray and Black Stripes Print"
         },
         {
          "index": 752,
          "name": "Brick 1 x 8 without Bottom Tubes with Cross Side Supports with Gold 'BAGER' Print"
         },
         {
          "index": 753,
          "name": "Wedge 12 x 3 Right with Black/Orange Checkered/Striped Race Print"
         },
         {
          "index": 754,
          "name": "Brick Curved 1 x 4 x 2 Center Stud Top with Rose and Vines Print"
         },
         {
          "index": 755,
          "name": "ROOF TILE 1X2 2/3, with Flash Logo Print"
         },
         {
          "index": 756,
          "name": "Wedge 4 x 3 No Studs with Two Red Arrows Vulture Droid Sensors Print"
         },
         {
          "index": 757,
          "name": "Slope 33° 3 x 4 with ATM Bank Machine Print"
         },
         {
          "index": 758,
          "name": "Slope 45 4 x 4 with Blue Stripe Print"
         },
         {
          "index": 759,
          "name": "BRICK 1X3, marceline print"
         },
         {
          "index": 760,
          "name": "Slope 33° 3 x 4 with Res-Q Headlight Print [4610]"
         },
         {
          "index": 761,
          "name": "Wedge 10 x 3 Right with Red Stripe Print"
         },
         {
          "index": 762,
          "name": "Cone Half 8 x 4 x 6 with Roof Shingles Print"
         },
         {
          "index": 763,
          "name": "Brick 1 x 1 with Blue '&amp;' Print (Bold Font)"
         },
         {
          "index": 764,
          "name": "Slope 33° 3 x 2 with White Stripes Print"
         },
         {
          "index": 765,
          "name": "Brick 2 x 4 with Black '390' Print"
         },
         {
          "index": 766,
          "name": "Slope 45° 2 x 4 with Red 'Air Canada' Print (Set 611-2)"
         },
         {
          "index": 767,
          "name": "Slope, Curved 2 x 2 Lip, No Studs with 'M' and Black/Red Print (Set 8384)"
         },
         {
          "index": 768,
          "name": "Slope 45° 10 x 2 x 2 Double with Tools and Motorcycle Print"
         },
         {
          "index": 769,
          "name": "Cone Half 8 x 4 x 6 with Dark Red Stripe Tantive Bridge Top Print"
         },
         {
          "index": 770,
          "name": "Brick, Modified 2 x 4 x 2 Double Curved Top with Black Spots Print"
         },
         {
          "index": 771,
          "name": "Slope Inverted 45 2 x 2 with Smiling Mouth Print"
         },
         {
          "index": 772,
          "name": "Cockpit Space Nose with Silver and Red V Print [6820]"
         },
         {
          "index": 773,
          "name": "Slope 65 2 x 2 x 2 with Bottom Tube with Torn Dress Print (Zombie Bride)"
         },
         {
          "index": 774,
          "name": "Slope 55° 1 x 6 x 5 with Red and Dark Gray Print"
         },
         {
          "index": 775,
          "name": "Brick, Round Corner 4 x 2 Macaroni Double with Stud Notches"
         },
         {
          "index": 776,
          "name": "Slope 18 4 x 2 with Yellow Gator Skin Print"
         },
         {
          "index": 777,
          "name": "Brick Curved 2 x 2 x 2/3 Two Studs, Curve Slope End with '13' and Red Triangle Print"
         },
         {
          "index": 778,
          "name": "Brick Round 2 x 2 Dome with Imperial Droid Print"
         },
         {
          "index": 779,
          "name": "Brick 2 x 4 with Car Grille (2 Circles, 2 Lines) Black Print"
         },
         {
          "index": 780,
          "name": "Brick 2 x 4 with Gold Holly and '18' Print"
         },
         {
          "index": 781,
          "name": "Slope Curved 2 x 2 x 2/3 with Gray Shield Emblem with Bright Light Orange Bull Inset Print"
         },
         {
          "index": 782,
          "name": "Wedge 2 x 4 Triple with Angler Fish Face Print"
         },
         {
          "index": 783,
          "name": "Wedge 2 x 4 Triple with Spider Eyes Print [9470]"
         },
         {
          "index": 784,
          "name": "Brick Curved 2 x 4 x 2 Double Curved Top with Dog Bones Print"
         },
         {
          "index": 785,
          "name": "Slope 65 2 x 2 x 2 with Bottom Tube with Green Eye Left Print (Mack)"
         },
         {
          "index": 786,
          "name": "FINAL BRICK 2X2, NO. 1007"
         },
         {
          "index": 787,
          "name": "Brick 1 x 6 x 5 with Rocket Launch Print"
         },
         {
          "index": 788,
          "name": "Slope, Curved 2 x 2 Lip, No Studs with Red Flames/Blue Star Print (Shredd) - Set 4570"
         },
         {
          "index": 789,
          "name": "Slope 65° 2 x 2 x 2 with Bottom Tube with Wedding Dress with Silver Trim Print"
         },
         {
          "index": 790,
          "name": "Brick 1 x 1 with Blue Danish 'Å' Print"
         },
         {
          "index": 791,
          "name": "Wedge 4 x 4 Triple without Stud Notches with White Dots and Hydraulic Print (Stingray Engine)"
         },
         {
          "index": 792,
          "name": "Brick 1 x 6 with 'GROOVY', 'LOVE', Rainbow and Flower Print"
         },
         {
          "index": 793,
          "name": "Brick 1 x 1 with Blue 'L' Print (Bold Font)"
         },
         {
          "index": 794,
          "name": "Wedge 12 x 3 Right with Bricks and Hieroglyphs Print"
         },
         {
          "index": 795,
          "name": "Brick Round 1 x 1 Open Stud with Robot Face with Blue Eyes, Black Vents and Brown Splotches Pattern (Tai-d)"
         },
         {
          "index": 796,
          "name": "Brick, Modified 2 x 4 x 2 Double Curved Top with Overalls and Tools in Pocket Print"
         },
         {
          "index": 797,
          "name": "Slope Curved 2 x 4 x 2/3 No Studs with Bottom Tubes with Hoses and Machinery Print"
         },
         {
          "index": 798,
          "name": "Slope, Curved 2 x 2 Lip, No Studs with Red/White/Black Flame Print"
         },
         {
          "index": 799,
          "name": "Brick 1 x 3 with Queasy Kitty Face Print"
         },
         {
          "index": 800,
          "name": "Slope 45° 2 x 3 with Yellow Line and Black Border Print"
         },
         {
          "index": 801,
          "name": "Brick 1 x 3 x 5 with Cup, Phone, and Water Tap Print [6393]"
         },
         {
          "index": 802,
          "name": "Slope 33 3 x 2 with with RoboForce Blue and Gold Mechanical Foot Print"
         },
         {
          "index": 803,
          "name": "Brick Curved 2 x 4 x 2 Double Curved Top with Yellow Car Grille and Headlights Print"
         },
         {
          "index": 804,
          "name": "Brick 1 x 1 with Blue 'Ü' Print (Bold Font)"
         },
         {
          "index": 805,
          "name": "Slope 45° 2 x 2 with SW Droid Tri-Fighter Print"
         },
         {
          "index": 806,
          "name": "Wedge 6 x 2 Right with SW Mini AT-TE Print [4495]"
         },
         {
          "index": 807,
          "name": "Wedge 6 x 2 Left with White/Orange Curves and Black Fade Print [8380]"
         },
         {
          "index": 808,
          "name": "Slope 33 3 x 2 Smooth with McDonald's Grimace Print"
         },
         {
          "index": 809,
          "name": "Wedge 6 x 2 Right with Police Blue Line Print [4669]"
         },
         {
          "index": 810,
          "name": "Cylinder Hemisphere 11 x 11, Studs on Top - Death Star Half (9676)"
         },
         {
          "index": 811,
          "name": "Iron Man Mask"
         },
         {
          "index": 812,
          "name": "RAMP 4X8X6,4 W. WING NO. 5"
         },
         {
          "index": 813,
          "name": "Slope 45° 2 x 2 with Pillow Print"
         },
         {
          "index": 814,
          "name": "Wedge 4 x 4 Triple without Stud Notches with Black and Dark Gray Panels Print (Set 7191)"
         },
         {
          "index": 815,
          "name": "Wedge 6 x 2 Left with Submarine Print [4793]"
         },
         {
          "index": 816,
          "name": "Brick 2 x 4 x 3 with Watering Can Print"
         },
         {
          "index": 817,
          "name": "Wedge 6 x 2 Right with White/Orange Curves and Black Fade Print [8380]"
         },
         {
          "index": 818,
          "name": "Slope 45° 2 x 4 with Red Dragon Left Print"
         },
         {
          "index": 819,
          "name": "Brick 2 x 2 x 3 with White Stripes Black Outlined Print"
         },
         {
          "index": 820,
          "name": "Wedge 4 x 4 Triple without Stud Notches with Brown Panels, Gray Machinery, Lime Light Print"
         },
         {
          "index": 821,
          "name": "Brick 1 x 6 without Bottom Tubes with Cross Side Supports with Black 'Teater' Script Print"
         },
         {
          "index": 822,
          "name": "Brick 2 x 4 with Plane Windows 8 in Thick Red Stripe Print"
         },
         {
          "index": 823,
          "name": "Brick, Modified 2 x 2 No Studs, Sloped with Flared Wings and Scratch Print (Set 4572)"
         },
         {
          "index": 824,
          "name": "Slope, Curved 4 x 1 Double No Studs with Silver Car Grill and Bumper and Yellow 'LOLA' License Plate Pattern"
         },
         {
          "index": 825,
          "name": "Brick, Round 2 x 2 x 2 Robot Body with Red and Silver Print (R4-G0)"
         },
         {
          "index": 826,
          "name": "Brick Round 2 x 2 Dome Top with Copper Droid Print (R4-G9)"
         },
         {
          "index": 827,
          "name": "Brick 1 x 6 with Black 'TAXI' Thin Print"
         },
         {
          "index": 828,
          "name": "Boat Deck Brick 8 x 3 x 4 Railing"
         },
         {
          "index": 829,
          "name": "Wedge 4 x 4 Taper with Police Yellow Star Badge Print [6398]"
         },
         {
          "index": 830,
          "name": "Brick 1 x 6 with Black 'Bahnhof' Print"
         },
         {
          "index": 831,
          "name": "Brick 1 x 4 with Black TAXI Print"
         },
         {
          "index": 832,
          "name": "Brick 2 x 4 with Gold Holly and '22' Print"
         },
         {
          "index": 833,
          "name": "Brick 2 x 4 with Angled Red Stripes Between Two Horizontal Red Stripes Print"
         },
         {
          "index": 834,
          "name": "Hemisphere 11 x 11 - 4 Studs on Top with Endor Blue / White Planet Print [75010]"
         },
         {
          "index": 835,
          "name": "Slope Brick 33  3 x  6 with SW ARC-170 Left Print"
         },
         {
          "index": 836,
          "name": "Brick 1 x 6 with Black 'CATERHAM' on Yellow Stripe print"
         },
         {
          "index": 837,
          "name": "Brick 1 x 2 x 2 with Inside Stud Holder with 'KRUSTY O's' Cereal Box Print"
         }
        ],
        "schema": {
         "fields": [
          {
           "name": "index",
           "type": "integer"
          },
          {
           "name": "name",
           "type": "string"
          }
         ],
         "pandas_version": "1.4.0",
         "primaryKey": [
          "index"
         ]
        }
       },
       "total_rows": 838,
       "truncation_type": null
      },
      "text/html": [
       "<div>\n",
       "<style scoped>\n",
       "    .dataframe tbody tr th:only-of-type {\n",
       "        vertical-align: middle;\n",
       "    }\n",
       "\n",
       "    .dataframe tbody tr th {\n",
       "        vertical-align: top;\n",
       "    }\n",
       "\n",
       "    .dataframe thead th {\n",
       "        text-align: right;\n",
       "    }\n",
       "</style>\n",
       "<table border=\"1\" class=\"dataframe\">\n",
       "  <thead>\n",
       "    <tr style=\"text-align: right;\">\n",
       "      <th></th>\n",
       "      <th>name</th>\n",
       "    </tr>\n",
       "  </thead>\n",
       "  <tbody>\n",
       "    <tr>\n",
       "      <th>0</th>\n",
       "      <td>Brick 1 x 4 with Belle Dress print</td>\n",
       "    </tr>\n",
       "    <tr>\n",
       "      <th>1</th>\n",
       "      <td>BRICK 2X2, NO. 104 Horseshoe Number 1</td>\n",
       "    </tr>\n",
       "    <tr>\n",
       "      <th>2</th>\n",
       "      <td>ROUND BRICK 2X2X2, &amp;quot;NO 1006&amp;quot;</td>\n",
       "    </tr>\n",
       "    <tr>\n",
       "      <th>3</th>\n",
       "      <td>Slope, Curved 2 x 2 Lip, No Studs with Red Che...</td>\n",
       "    </tr>\n",
       "    <tr>\n",
       "      <th>4</th>\n",
       "      <td>Brick 1 x 2 with Red Sterling S Print (1551)</td>\n",
       "    </tr>\n",
       "    <tr>\n",
       "      <th>...</th>\n",
       "      <td>...</td>\n",
       "    </tr>\n",
       "    <tr>\n",
       "      <th>833</th>\n",
       "      <td>Brick 2 x 4 with Angled Red Stripes Between Tw...</td>\n",
       "    </tr>\n",
       "    <tr>\n",
       "      <th>834</th>\n",
       "      <td>Hemisphere 11 x 11 - 4 Studs on Top with Endor...</td>\n",
       "    </tr>\n",
       "    <tr>\n",
       "      <th>835</th>\n",
       "      <td>Slope Brick 33  3 x  6 with SW ARC-170 Left Print</td>\n",
       "    </tr>\n",
       "    <tr>\n",
       "      <th>836</th>\n",
       "      <td>Brick 1 x 6 with Black 'CATERHAM' on Yellow St...</td>\n",
       "    </tr>\n",
       "    <tr>\n",
       "      <th>837</th>\n",
       "      <td>Brick 1 x 2 x 2 with Inside Stud Holder with '...</td>\n",
       "    </tr>\n",
       "  </tbody>\n",
       "</table>\n",
       "<p>838 rows × 1 columns</p>\n",
       "</div>"
      ],
      "text/plain": [
       "                                                  name\n",
       "0                   Brick 1 x 4 with Belle Dress print\n",
       "1                BRICK 2X2, NO. 104 Horseshoe Number 1\n",
       "2               ROUND BRICK 2X2X2, &quot;NO 1006&quot;\n",
       "3    Slope, Curved 2 x 2 Lip, No Studs with Red Che...\n",
       "4         Brick 1 x 2 with Red Sterling S Print (1551)\n",
       "..                                                 ...\n",
       "833  Brick 2 x 4 with Angled Red Stripes Between Tw...\n",
       "834  Hemisphere 11 x 11 - 4 Studs on Top with Endor...\n",
       "835  Slope Brick 33  3 x  6 with SW ARC-170 Left Print\n",
       "836  Brick 1 x 6 with Black 'CATERHAM' on Yellow St...\n",
       "837  Brick 1 x 2 x 2 with Inside Stud Holder with '...\n",
       "\n",
       "[838 rows x 1 columns]"
      ]
     },
     "execution_count": 75,
     "metadata": {},
     "output_type": "execute_result"
    }
   ],
   "source": [
    "WITH min_count AS(\n",
    "SELECT COUNT(*) AS ctn\n",
    "FROM inventory_parts\n",
    "GROUP BY part_num\n",
    "ORDER BY ctn\n",
    "LIMIT 1\n",
    ")\n",
    "SELECT p.name\n",
    "FROM part_categories pc JOIN parts p ON pc.name LIKE '%Brick%' AND pc.id = p.part_cat_id\n",
    "JOIN inventory_parts ip ON p.part_num = ip.part_num\n",
    "GROUP BY p.name\n",
    "HAVING COUNT(*) = (SELECT ctn FROM min_count)\n",
    "\n",
    "\n"
   ]
  },
  {
   "cell_type": "markdown",
   "id": "10fbdbe2-d10b-4e3c-b02d-ac425901ca7b",
   "metadata": {},
   "source": [
    "## Summary\n",
    "\n",
    "1. The first thing I noticed when analyzing the data is the inefficient schema design. For instance, there is no simple way to find out what are the parts belonging to a Lego set, as there is no direct relationship between the two tables. To answer this simple question, one needs to look into inventories. Maybe there are other considerations, outside the scope of this exercise, that resulted into this particular schema design.\n",
    "2. Another consequence of the design is the ambiguity related to measures. For instance, when we are checking for certain properties of parts, do we count the quantities of that part in inventories, or do we count how many times that part was ordered?\n",
    "3. This was a fun exercise, thank you!"
   ]
  }
 ],
 "metadata": {
  "editor": "DataCamp Workspace",
  "kernelspec": {
   "display_name": "Python 3 (ipykernel)",
   "language": "python",
   "name": "python3"
  },
  "language_info": {
   "codemirror_mode": {
    "name": "ipython",
    "version": 3
   },
   "file_extension": ".py",
   "mimetype": "text/x-python",
   "name": "python",
   "nbconvert_exporter": "python",
   "pygments_lexer": "ipython3",
   "version": "3.9.16"
  }
 },
 "nbformat": 4,
 "nbformat_minor": 5
}
